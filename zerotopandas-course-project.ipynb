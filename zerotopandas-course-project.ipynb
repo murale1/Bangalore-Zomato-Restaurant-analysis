{
 "cells": [
  {
   "cell_type": "markdown",
   "metadata": {},
   "source": [
    "# Project Title - Restaurants in Bengaluru using zomato dataset\n",
    "\n",
    "\n",
    "The basic idea of analyzing the Zomato dataset is to get a fair idea about the factors affecting the aggregate rating of each restaurant, establishment of different types of restaurant at different places, Bengaluru being one such city has more than 12,000 restaurants with restaurants serving dishes from all over the world. With each day new restaurants opening the industry has'nt been saturated yet and the demand is increasing day by day. Inspite of increasing demand it however has become difficult for new restaurants to compete with established restaurants. Most of them serving the same food. Bengaluru being an IT capital of India. Most of the people here are dependent mainly on the restaurant food as they don't have time to cook for themselves. With such an overwhelming demand of restaurants it has therefore become important to study the demography of a location. What kind of a food is more popular in a locality. Do the entire locality loves vegetarian food. If yes then is that locality populated by a particular sect of people for eg. Jain, Marwaris, Gujaratis who are mostly vegetarian. These kind of analysis can be done using the data, by studying different factors."
   ]
  },
  {
   "cell_type": "markdown",
   "metadata": {},
   "source": [
    "## Downloading the Dataset\n",
    "\n",
    "I found this raw dataset in kaggle :https://www.kaggle.com/datasets/himanshupoddar/zomato-bangalore-restaurants\n",
    "The data was in csv format.\n",
    "Use the urlretrieve function from the urllib.request to download CSV files from a raw URL\n",
    "Use a helper library, e.g., opendatasets, which contains a collection of curated datasets and provides a helper function for direct download."
   ]
  },
  {
   "cell_type": "code",
   "execution_count": 1,
   "metadata": {},
   "outputs": [],
   "source": [
    "!pip install jovian opendatasets --upgrade --quiet"
   ]
  },
  {
   "cell_type": "markdown",
   "metadata": {},
   "source": [
    "Let's begin by downloading the data, and listing the files within the dataset."
   ]
  },
  {
   "cell_type": "code",
   "execution_count": 2,
   "metadata": {},
   "outputs": [],
   "source": [
    "dataset_url = 'https://www.kaggle.com/datasets/himanshupoddar/zomato-bangalore-restaurants' "
   ]
  },
  {
   "cell_type": "code",
   "execution_count": 3,
   "metadata": {},
   "outputs": [
    {
     "name": "stdout",
     "output_type": "stream",
     "text": [
      "Skipping, found downloaded files in \"./zomato-bangalore-restaurants\" (use force=True to force download)\n"
     ]
    }
   ],
   "source": [
    "import opendatasets as od\n",
    "od.download(dataset_url)"
   ]
  },
  {
   "cell_type": "markdown",
   "metadata": {},
   "source": [
    "The dataset has been downloaded and extracted."
   ]
  },
  {
   "cell_type": "code",
   "execution_count": 4,
   "metadata": {},
   "outputs": [],
   "source": [
    "data_dir = './zomato-bangalore-restaurants'"
   ]
  },
  {
   "cell_type": "code",
   "execution_count": 5,
   "metadata": {},
   "outputs": [
    {
     "data": {
      "text/plain": [
       "['zomato.csv']"
      ]
     },
     "execution_count": 5,
     "metadata": {},
     "output_type": "execute_result"
    }
   ],
   "source": [
    "import os\n",
    "os.listdir(data_dir)"
   ]
  },
  {
   "cell_type": "markdown",
   "metadata": {},
   "source": [
    "Let us save and upload our work to Jovian before continuing."
   ]
  },
  {
   "cell_type": "code",
   "execution_count": 6,
   "metadata": {},
   "outputs": [],
   "source": [
    "project_name = \"zerotopandas-course-project-zomato-bangalore\""
   ]
  },
  {
   "cell_type": "code",
   "execution_count": 7,
   "metadata": {},
   "outputs": [],
   "source": [
    "!pip install jovian --upgrade -q"
   ]
  },
  {
   "cell_type": "code",
   "execution_count": 8,
   "metadata": {},
   "outputs": [
    {
     "data": {
      "application/javascript": [
       "if (window.IPython && IPython.notebook.kernel) IPython.notebook.kernel.execute('jovian.utils.jupyter.get_notebook_name_saved = lambda: \"' + IPython.notebook.notebook_name + '\"')"
      ],
      "text/plain": [
       "<IPython.core.display.Javascript object>"
      ]
     },
     "metadata": {},
     "output_type": "display_data"
    }
   ],
   "source": [
    "import jovian"
   ]
  },
  {
   "cell_type": "code",
   "execution_count": 70,
   "metadata": {},
   "outputs": [
    {
     "data": {
      "application/javascript": [
       "window.require && require([\"base/js/namespace\"],function(Jupyter){Jupyter.notebook.save_checkpoint()})"
      ],
      "text/plain": [
       "<IPython.core.display.Javascript object>"
      ]
     },
     "metadata": {},
     "output_type": "display_data"
    },
    {
     "name": "stdout",
     "output_type": "stream",
     "text": [
      "[jovian] Updating notebook \"murale1/zerotopandas-course-project-zomato-bangalore\" on https://jovian.com\u001b[0m\n",
      "[jovian] Committed successfully! https://jovian.com/murale1/zerotopandas-course-project-zomato-bangalore\u001b[0m\n"
     ]
    },
    {
     "data": {
      "text/plain": [
       "'https://jovian.com/murale1/zerotopandas-course-project-zomato-bangalore'"
      ]
     },
     "execution_count": 70,
     "metadata": {},
     "output_type": "execute_result"
    }
   ],
   "source": [
    "jovian.commit(project=project_name)"
   ]
  },
  {
   "cell_type": "markdown",
   "metadata": {},
   "source": [
    "## Data Preparation and Cleaning\n",
    "\n",
    "Let's load the CSV files using the Pandas library. We'll use the name data for the data frame to indicate this is unprocessed data that we might clean, filter, and modify to prepare a data frame ready for analysis.\n",
    "\n"
   ]
  },
  {
   "cell_type": "code",
   "execution_count": 1,
   "metadata": {},
   "outputs": [],
   "source": [
    "import pandas as pd"
   ]
  },
  {
   "cell_type": "code",
   "execution_count": 2,
   "metadata": {},
   "outputs": [],
   "source": [
    "data=pd.read_csv('./zomato-bangalore-restaurants/zomato.csv')"
   ]
  },
  {
   "cell_type": "code",
   "execution_count": 3,
   "metadata": {},
   "outputs": [
    {
     "data": {
      "text/html": [
       "<div>\n",
       "<style scoped>\n",
       "    .dataframe tbody tr th:only-of-type {\n",
       "        vertical-align: middle;\n",
       "    }\n",
       "\n",
       "    .dataframe tbody tr th {\n",
       "        vertical-align: top;\n",
       "    }\n",
       "\n",
       "    .dataframe thead th {\n",
       "        text-align: right;\n",
       "    }\n",
       "</style>\n",
       "<table border=\"1\" class=\"dataframe\">\n",
       "  <thead>\n",
       "    <tr style=\"text-align: right;\">\n",
       "      <th></th>\n",
       "      <th>url</th>\n",
       "      <th>address</th>\n",
       "      <th>name</th>\n",
       "      <th>online_order</th>\n",
       "      <th>book_table</th>\n",
       "      <th>rate</th>\n",
       "      <th>votes</th>\n",
       "      <th>phone</th>\n",
       "      <th>location</th>\n",
       "      <th>rest_type</th>\n",
       "      <th>dish_liked</th>\n",
       "      <th>cuisines</th>\n",
       "      <th>approx_cost(for two people)</th>\n",
       "      <th>reviews_list</th>\n",
       "      <th>menu_item</th>\n",
       "      <th>listed_in(type)</th>\n",
       "      <th>listed_in(city)</th>\n",
       "    </tr>\n",
       "  </thead>\n",
       "  <tbody>\n",
       "    <tr>\n",
       "      <th>0</th>\n",
       "      <td>https://www.zomato.com/bangalore/jalsa-banasha...</td>\n",
       "      <td>942, 21st Main Road, 2nd Stage, Banashankari, ...</td>\n",
       "      <td>Jalsa</td>\n",
       "      <td>Yes</td>\n",
       "      <td>Yes</td>\n",
       "      <td>4.1/5</td>\n",
       "      <td>775</td>\n",
       "      <td>080 42297555\\r\\n+91 9743772233</td>\n",
       "      <td>Banashankari</td>\n",
       "      <td>Casual Dining</td>\n",
       "      <td>Pasta, Lunch Buffet, Masala Papad, Paneer Laja...</td>\n",
       "      <td>North Indian, Mughlai, Chinese</td>\n",
       "      <td>800</td>\n",
       "      <td>[('Rated 4.0', 'RATED\\n  A beautiful place to ...</td>\n",
       "      <td>[]</td>\n",
       "      <td>Buffet</td>\n",
       "      <td>Banashankari</td>\n",
       "    </tr>\n",
       "    <tr>\n",
       "      <th>1</th>\n",
       "      <td>https://www.zomato.com/bangalore/spice-elephan...</td>\n",
       "      <td>2nd Floor, 80 Feet Road, Near Big Bazaar, 6th ...</td>\n",
       "      <td>Spice Elephant</td>\n",
       "      <td>Yes</td>\n",
       "      <td>No</td>\n",
       "      <td>4.1/5</td>\n",
       "      <td>787</td>\n",
       "      <td>080 41714161</td>\n",
       "      <td>Banashankari</td>\n",
       "      <td>Casual Dining</td>\n",
       "      <td>Momos, Lunch Buffet, Chocolate Nirvana, Thai G...</td>\n",
       "      <td>Chinese, North Indian, Thai</td>\n",
       "      <td>800</td>\n",
       "      <td>[('Rated 4.0', 'RATED\\n  Had been here for din...</td>\n",
       "      <td>[]</td>\n",
       "      <td>Buffet</td>\n",
       "      <td>Banashankari</td>\n",
       "    </tr>\n",
       "    <tr>\n",
       "      <th>2</th>\n",
       "      <td>https://www.zomato.com/SanchurroBangalore?cont...</td>\n",
       "      <td>1112, Next to KIMS Medical College, 17th Cross...</td>\n",
       "      <td>San Churro Cafe</td>\n",
       "      <td>Yes</td>\n",
       "      <td>No</td>\n",
       "      <td>3.8/5</td>\n",
       "      <td>918</td>\n",
       "      <td>+91 9663487993</td>\n",
       "      <td>Banashankari</td>\n",
       "      <td>Cafe, Casual Dining</td>\n",
       "      <td>Churros, Cannelloni, Minestrone Soup, Hot Choc...</td>\n",
       "      <td>Cafe, Mexican, Italian</td>\n",
       "      <td>800</td>\n",
       "      <td>[('Rated 3.0', \"RATED\\n  Ambience is not that ...</td>\n",
       "      <td>[]</td>\n",
       "      <td>Buffet</td>\n",
       "      <td>Banashankari</td>\n",
       "    </tr>\n",
       "    <tr>\n",
       "      <th>3</th>\n",
       "      <td>https://www.zomato.com/bangalore/addhuri-udupi...</td>\n",
       "      <td>1st Floor, Annakuteera, 3rd Stage, Banashankar...</td>\n",
       "      <td>Addhuri Udupi Bhojana</td>\n",
       "      <td>No</td>\n",
       "      <td>No</td>\n",
       "      <td>3.7/5</td>\n",
       "      <td>88</td>\n",
       "      <td>+91 9620009302</td>\n",
       "      <td>Banashankari</td>\n",
       "      <td>Quick Bites</td>\n",
       "      <td>Masala Dosa</td>\n",
       "      <td>South Indian, North Indian</td>\n",
       "      <td>300</td>\n",
       "      <td>[('Rated 4.0', \"RATED\\n  Great food and proper...</td>\n",
       "      <td>[]</td>\n",
       "      <td>Buffet</td>\n",
       "      <td>Banashankari</td>\n",
       "    </tr>\n",
       "    <tr>\n",
       "      <th>4</th>\n",
       "      <td>https://www.zomato.com/bangalore/grand-village...</td>\n",
       "      <td>10, 3rd Floor, Lakshmi Associates, Gandhi Baza...</td>\n",
       "      <td>Grand Village</td>\n",
       "      <td>No</td>\n",
       "      <td>No</td>\n",
       "      <td>3.8/5</td>\n",
       "      <td>166</td>\n",
       "      <td>+91 8026612447\\r\\n+91 9901210005</td>\n",
       "      <td>Basavanagudi</td>\n",
       "      <td>Casual Dining</td>\n",
       "      <td>Panipuri, Gol Gappe</td>\n",
       "      <td>North Indian, Rajasthani</td>\n",
       "      <td>600</td>\n",
       "      <td>[('Rated 4.0', 'RATED\\n  Very good restaurant ...</td>\n",
       "      <td>[]</td>\n",
       "      <td>Buffet</td>\n",
       "      <td>Banashankari</td>\n",
       "    </tr>\n",
       "    <tr>\n",
       "      <th>5</th>\n",
       "      <td>https://www.zomato.com/bangalore/timepass-dinn...</td>\n",
       "      <td>37, 5-1, 4th Floor, Bosco Court, Gandhi Bazaar...</td>\n",
       "      <td>Timepass Dinner</td>\n",
       "      <td>Yes</td>\n",
       "      <td>No</td>\n",
       "      <td>3.8/5</td>\n",
       "      <td>286</td>\n",
       "      <td>+91 9980040002\\r\\n+91 9980063005</td>\n",
       "      <td>Basavanagudi</td>\n",
       "      <td>Casual Dining</td>\n",
       "      <td>Onion Rings, Pasta, Kadhai Paneer, Salads, Sal...</td>\n",
       "      <td>North Indian</td>\n",
       "      <td>600</td>\n",
       "      <td>[('Rated 3.0', 'RATED\\n  Food 3/5\\nAmbience 3/...</td>\n",
       "      <td>[]</td>\n",
       "      <td>Buffet</td>\n",
       "      <td>Banashankari</td>\n",
       "    </tr>\n",
       "    <tr>\n",
       "      <th>6</th>\n",
       "      <td>https://www.zomato.com/bangalore/rosewood-inte...</td>\n",
       "      <td>19/1, New Timberyard Layout, Beside Satellite ...</td>\n",
       "      <td>Rosewood International Hotel - Bar &amp; Restaurant</td>\n",
       "      <td>No</td>\n",
       "      <td>No</td>\n",
       "      <td>3.6/5</td>\n",
       "      <td>8</td>\n",
       "      <td>+91 9731716688\\r\\n080 26740366</td>\n",
       "      <td>Mysore Road</td>\n",
       "      <td>Casual Dining</td>\n",
       "      <td>NaN</td>\n",
       "      <td>North Indian, South Indian, Andhra, Chinese</td>\n",
       "      <td>800</td>\n",
       "      <td>[('Rated 5.0', 'RATED\\n  Awesome food ??Great ...</td>\n",
       "      <td>[]</td>\n",
       "      <td>Buffet</td>\n",
       "      <td>Banashankari</td>\n",
       "    </tr>\n",
       "    <tr>\n",
       "      <th>7</th>\n",
       "      <td>https://www.zomato.com/bangalore/onesta-banash...</td>\n",
       "      <td>2469, 3rd Floor, 24th Cross, Opposite BDA Comp...</td>\n",
       "      <td>Onesta</td>\n",
       "      <td>Yes</td>\n",
       "      <td>Yes</td>\n",
       "      <td>4.6/5</td>\n",
       "      <td>2556</td>\n",
       "      <td>080 48653961\\r\\n080 48655715</td>\n",
       "      <td>Banashankari</td>\n",
       "      <td>Casual Dining, Cafe</td>\n",
       "      <td>Farmhouse Pizza, Chocolate Banana, Virgin Moji...</td>\n",
       "      <td>Pizza, Cafe, Italian</td>\n",
       "      <td>600</td>\n",
       "      <td>[('Rated 5.0', 'RATED\\n  I personally really l...</td>\n",
       "      <td>[]</td>\n",
       "      <td>Cafes</td>\n",
       "      <td>Banashankari</td>\n",
       "    </tr>\n",
       "    <tr>\n",
       "      <th>8</th>\n",
       "      <td>https://www.zomato.com/bangalore/penthouse-caf...</td>\n",
       "      <td>1, 30th Main Road, 3rd Stage, Banashankari, Ba...</td>\n",
       "      <td>Penthouse Cafe</td>\n",
       "      <td>Yes</td>\n",
       "      <td>No</td>\n",
       "      <td>4.0/5</td>\n",
       "      <td>324</td>\n",
       "      <td>+91 8884135549\\r\\n+91 9449449316</td>\n",
       "      <td>Banashankari</td>\n",
       "      <td>Cafe</td>\n",
       "      <td>Pizza, Mocktails, Coffee, Nachos, Salad, Pasta...</td>\n",
       "      <td>Cafe, Italian, Continental</td>\n",
       "      <td>700</td>\n",
       "      <td>[('Rated 3.0', \"RATED\\n  I had been to this pl...</td>\n",
       "      <td>[]</td>\n",
       "      <td>Cafes</td>\n",
       "      <td>Banashankari</td>\n",
       "    </tr>\n",
       "    <tr>\n",
       "      <th>9</th>\n",
       "      <td>https://www.zomato.com/bangalore/smacznego-ban...</td>\n",
       "      <td>2470, 21 Main Road, 25th Cross, Banashankari, ...</td>\n",
       "      <td>Smacznego</td>\n",
       "      <td>Yes</td>\n",
       "      <td>No</td>\n",
       "      <td>4.2/5</td>\n",
       "      <td>504</td>\n",
       "      <td>+91 9945230807\\r\\n+91 9743804471</td>\n",
       "      <td>Banashankari</td>\n",
       "      <td>Cafe</td>\n",
       "      <td>Waffles, Pasta, Coleslaw Sandwich, Choco Waffl...</td>\n",
       "      <td>Cafe, Mexican, Italian, Momos, Beverages</td>\n",
       "      <td>550</td>\n",
       "      <td>[('Rated 4.0', \"RATED\\n  Easy to locate\\nVFM 3...</td>\n",
       "      <td>[]</td>\n",
       "      <td>Cafes</td>\n",
       "      <td>Banashankari</td>\n",
       "    </tr>\n",
       "  </tbody>\n",
       "</table>\n",
       "</div>"
      ],
      "text/plain": [
       "                                                 url  \\\n",
       "0  https://www.zomato.com/bangalore/jalsa-banasha...   \n",
       "1  https://www.zomato.com/bangalore/spice-elephan...   \n",
       "2  https://www.zomato.com/SanchurroBangalore?cont...   \n",
       "3  https://www.zomato.com/bangalore/addhuri-udupi...   \n",
       "4  https://www.zomato.com/bangalore/grand-village...   \n",
       "5  https://www.zomato.com/bangalore/timepass-dinn...   \n",
       "6  https://www.zomato.com/bangalore/rosewood-inte...   \n",
       "7  https://www.zomato.com/bangalore/onesta-banash...   \n",
       "8  https://www.zomato.com/bangalore/penthouse-caf...   \n",
       "9  https://www.zomato.com/bangalore/smacznego-ban...   \n",
       "\n",
       "                                             address  \\\n",
       "0  942, 21st Main Road, 2nd Stage, Banashankari, ...   \n",
       "1  2nd Floor, 80 Feet Road, Near Big Bazaar, 6th ...   \n",
       "2  1112, Next to KIMS Medical College, 17th Cross...   \n",
       "3  1st Floor, Annakuteera, 3rd Stage, Banashankar...   \n",
       "4  10, 3rd Floor, Lakshmi Associates, Gandhi Baza...   \n",
       "5  37, 5-1, 4th Floor, Bosco Court, Gandhi Bazaar...   \n",
       "6  19/1, New Timberyard Layout, Beside Satellite ...   \n",
       "7  2469, 3rd Floor, 24th Cross, Opposite BDA Comp...   \n",
       "8  1, 30th Main Road, 3rd Stage, Banashankari, Ba...   \n",
       "9  2470, 21 Main Road, 25th Cross, Banashankari, ...   \n",
       "\n",
       "                                              name online_order book_table  \\\n",
       "0                                            Jalsa          Yes        Yes   \n",
       "1                                   Spice Elephant          Yes         No   \n",
       "2                                  San Churro Cafe          Yes         No   \n",
       "3                            Addhuri Udupi Bhojana           No         No   \n",
       "4                                    Grand Village           No         No   \n",
       "5                                  Timepass Dinner          Yes         No   \n",
       "6  Rosewood International Hotel - Bar & Restaurant           No         No   \n",
       "7                                           Onesta          Yes        Yes   \n",
       "8                                   Penthouse Cafe          Yes         No   \n",
       "9                                        Smacznego          Yes         No   \n",
       "\n",
       "    rate  votes                             phone      location  \\\n",
       "0  4.1/5    775    080 42297555\\r\\n+91 9743772233  Banashankari   \n",
       "1  4.1/5    787                      080 41714161  Banashankari   \n",
       "2  3.8/5    918                    +91 9663487993  Banashankari   \n",
       "3  3.7/5     88                    +91 9620009302  Banashankari   \n",
       "4  3.8/5    166  +91 8026612447\\r\\n+91 9901210005  Basavanagudi   \n",
       "5  3.8/5    286  +91 9980040002\\r\\n+91 9980063005  Basavanagudi   \n",
       "6  3.6/5      8    +91 9731716688\\r\\n080 26740366   Mysore Road   \n",
       "7  4.6/5   2556      080 48653961\\r\\n080 48655715  Banashankari   \n",
       "8  4.0/5    324  +91 8884135549\\r\\n+91 9449449316  Banashankari   \n",
       "9  4.2/5    504  +91 9945230807\\r\\n+91 9743804471  Banashankari   \n",
       "\n",
       "             rest_type                                         dish_liked  \\\n",
       "0        Casual Dining  Pasta, Lunch Buffet, Masala Papad, Paneer Laja...   \n",
       "1        Casual Dining  Momos, Lunch Buffet, Chocolate Nirvana, Thai G...   \n",
       "2  Cafe, Casual Dining  Churros, Cannelloni, Minestrone Soup, Hot Choc...   \n",
       "3          Quick Bites                                        Masala Dosa   \n",
       "4        Casual Dining                                Panipuri, Gol Gappe   \n",
       "5        Casual Dining  Onion Rings, Pasta, Kadhai Paneer, Salads, Sal...   \n",
       "6        Casual Dining                                                NaN   \n",
       "7  Casual Dining, Cafe  Farmhouse Pizza, Chocolate Banana, Virgin Moji...   \n",
       "8                 Cafe  Pizza, Mocktails, Coffee, Nachos, Salad, Pasta...   \n",
       "9                 Cafe  Waffles, Pasta, Coleslaw Sandwich, Choco Waffl...   \n",
       "\n",
       "                                      cuisines approx_cost(for two people)  \\\n",
       "0               North Indian, Mughlai, Chinese                         800   \n",
       "1                  Chinese, North Indian, Thai                         800   \n",
       "2                       Cafe, Mexican, Italian                         800   \n",
       "3                   South Indian, North Indian                         300   \n",
       "4                     North Indian, Rajasthani                         600   \n",
       "5                                 North Indian                         600   \n",
       "6  North Indian, South Indian, Andhra, Chinese                         800   \n",
       "7                         Pizza, Cafe, Italian                         600   \n",
       "8                   Cafe, Italian, Continental                         700   \n",
       "9     Cafe, Mexican, Italian, Momos, Beverages                         550   \n",
       "\n",
       "                                        reviews_list menu_item  \\\n",
       "0  [('Rated 4.0', 'RATED\\n  A beautiful place to ...        []   \n",
       "1  [('Rated 4.0', 'RATED\\n  Had been here for din...        []   \n",
       "2  [('Rated 3.0', \"RATED\\n  Ambience is not that ...        []   \n",
       "3  [('Rated 4.0', \"RATED\\n  Great food and proper...        []   \n",
       "4  [('Rated 4.0', 'RATED\\n  Very good restaurant ...        []   \n",
       "5  [('Rated 3.0', 'RATED\\n  Food 3/5\\nAmbience 3/...        []   \n",
       "6  [('Rated 5.0', 'RATED\\n  Awesome food ??Great ...        []   \n",
       "7  [('Rated 5.0', 'RATED\\n  I personally really l...        []   \n",
       "8  [('Rated 3.0', \"RATED\\n  I had been to this pl...        []   \n",
       "9  [('Rated 4.0', \"RATED\\n  Easy to locate\\nVFM 3...        []   \n",
       "\n",
       "  listed_in(type) listed_in(city)  \n",
       "0          Buffet    Banashankari  \n",
       "1          Buffet    Banashankari  \n",
       "2          Buffet    Banashankari  \n",
       "3          Buffet    Banashankari  \n",
       "4          Buffet    Banashankari  \n",
       "5          Buffet    Banashankari  \n",
       "6          Buffet    Banashankari  \n",
       "7           Cafes    Banashankari  \n",
       "8           Cafes    Banashankari  \n",
       "9           Cafes    Banashankari  "
      ]
     },
     "execution_count": 3,
     "metadata": {},
     "output_type": "execute_result"
    }
   ],
   "source": [
    "data.head(10)"
   ]
  },
  {
   "cell_type": "markdown",
   "metadata": {},
   "source": [
    "Let's view some basic information about the data frame."
   ]
  },
  {
   "cell_type": "code",
   "execution_count": 4,
   "metadata": {},
   "outputs": [
    {
     "data": {
      "text/plain": [
       "(51717, 17)"
      ]
     },
     "execution_count": 4,
     "metadata": {},
     "output_type": "execute_result"
    }
   ],
   "source": [
    "data.shape"
   ]
  },
  {
   "cell_type": "markdown",
   "metadata": {},
   "source": [
    "This dataset contains 51717 rows and 17 columns. May this rows has  some duplicates which would we remove them in subsequenent process. And the some columns in the data was irrelavant to the analysis so it should be removed to make this data clean."
   ]
  },
  {
   "cell_type": "code",
   "execution_count": 5,
   "metadata": {},
   "outputs": [
    {
     "data": {
      "text/plain": [
       "Index(['url', 'address', 'name', 'online_order', 'book_table', 'rate', 'votes',\n",
       "       'phone', 'location', 'rest_type', 'dish_liked', 'cuisines',\n",
       "       'approx_cost(for two people)', 'reviews_list', 'menu_item',\n",
       "       'listed_in(type)', 'listed_in(city)'],\n",
       "      dtype='object')"
      ]
     },
     "execution_count": 5,
     "metadata": {},
     "output_type": "execute_result"
    }
   ],
   "source": [
    "data.columns"
   ]
  },
  {
   "cell_type": "markdown",
   "metadata": {},
   "source": [
    "Here the dataset has some irrelevant columns which was not related to our analysis it should be excluded from the dataset.Url,address,phone,review_list are not so important for our analysis so it should be removed."
   ]
  },
  {
   "cell_type": "code",
   "execution_count": 6,
   "metadata": {},
   "outputs": [],
   "source": [
    "zomato_df=data.drop(['url','address','phone','reviews_list'],axis=1)"
   ]
  },
  {
   "cell_type": "code",
   "execution_count": 7,
   "metadata": {},
   "outputs": [
    {
     "data": {
      "text/html": [
       "<div>\n",
       "<style scoped>\n",
       "    .dataframe tbody tr th:only-of-type {\n",
       "        vertical-align: middle;\n",
       "    }\n",
       "\n",
       "    .dataframe tbody tr th {\n",
       "        vertical-align: top;\n",
       "    }\n",
       "\n",
       "    .dataframe thead th {\n",
       "        text-align: right;\n",
       "    }\n",
       "</style>\n",
       "<table border=\"1\" class=\"dataframe\">\n",
       "  <thead>\n",
       "    <tr style=\"text-align: right;\">\n",
       "      <th></th>\n",
       "      <th>name</th>\n",
       "      <th>online_order</th>\n",
       "      <th>book_table</th>\n",
       "      <th>rate</th>\n",
       "      <th>votes</th>\n",
       "      <th>location</th>\n",
       "      <th>rest_type</th>\n",
       "      <th>dish_liked</th>\n",
       "      <th>cuisines</th>\n",
       "      <th>approx_cost(for two people)</th>\n",
       "      <th>menu_item</th>\n",
       "      <th>listed_in(type)</th>\n",
       "      <th>listed_in(city)</th>\n",
       "    </tr>\n",
       "  </thead>\n",
       "  <tbody>\n",
       "    <tr>\n",
       "      <th>0</th>\n",
       "      <td>Jalsa</td>\n",
       "      <td>Yes</td>\n",
       "      <td>Yes</td>\n",
       "      <td>4.1/5</td>\n",
       "      <td>775</td>\n",
       "      <td>Banashankari</td>\n",
       "      <td>Casual Dining</td>\n",
       "      <td>Pasta, Lunch Buffet, Masala Papad, Paneer Laja...</td>\n",
       "      <td>North Indian, Mughlai, Chinese</td>\n",
       "      <td>800</td>\n",
       "      <td>[]</td>\n",
       "      <td>Buffet</td>\n",
       "      <td>Banashankari</td>\n",
       "    </tr>\n",
       "    <tr>\n",
       "      <th>1</th>\n",
       "      <td>Spice Elephant</td>\n",
       "      <td>Yes</td>\n",
       "      <td>No</td>\n",
       "      <td>4.1/5</td>\n",
       "      <td>787</td>\n",
       "      <td>Banashankari</td>\n",
       "      <td>Casual Dining</td>\n",
       "      <td>Momos, Lunch Buffet, Chocolate Nirvana, Thai G...</td>\n",
       "      <td>Chinese, North Indian, Thai</td>\n",
       "      <td>800</td>\n",
       "      <td>[]</td>\n",
       "      <td>Buffet</td>\n",
       "      <td>Banashankari</td>\n",
       "    </tr>\n",
       "    <tr>\n",
       "      <th>2</th>\n",
       "      <td>San Churro Cafe</td>\n",
       "      <td>Yes</td>\n",
       "      <td>No</td>\n",
       "      <td>3.8/5</td>\n",
       "      <td>918</td>\n",
       "      <td>Banashankari</td>\n",
       "      <td>Cafe, Casual Dining</td>\n",
       "      <td>Churros, Cannelloni, Minestrone Soup, Hot Choc...</td>\n",
       "      <td>Cafe, Mexican, Italian</td>\n",
       "      <td>800</td>\n",
       "      <td>[]</td>\n",
       "      <td>Buffet</td>\n",
       "      <td>Banashankari</td>\n",
       "    </tr>\n",
       "    <tr>\n",
       "      <th>3</th>\n",
       "      <td>Addhuri Udupi Bhojana</td>\n",
       "      <td>No</td>\n",
       "      <td>No</td>\n",
       "      <td>3.7/5</td>\n",
       "      <td>88</td>\n",
       "      <td>Banashankari</td>\n",
       "      <td>Quick Bites</td>\n",
       "      <td>Masala Dosa</td>\n",
       "      <td>South Indian, North Indian</td>\n",
       "      <td>300</td>\n",
       "      <td>[]</td>\n",
       "      <td>Buffet</td>\n",
       "      <td>Banashankari</td>\n",
       "    </tr>\n",
       "    <tr>\n",
       "      <th>4</th>\n",
       "      <td>Grand Village</td>\n",
       "      <td>No</td>\n",
       "      <td>No</td>\n",
       "      <td>3.8/5</td>\n",
       "      <td>166</td>\n",
       "      <td>Basavanagudi</td>\n",
       "      <td>Casual Dining</td>\n",
       "      <td>Panipuri, Gol Gappe</td>\n",
       "      <td>North Indian, Rajasthani</td>\n",
       "      <td>600</td>\n",
       "      <td>[]</td>\n",
       "      <td>Buffet</td>\n",
       "      <td>Banashankari</td>\n",
       "    </tr>\n",
       "    <tr>\n",
       "      <th>...</th>\n",
       "      <td>...</td>\n",
       "      <td>...</td>\n",
       "      <td>...</td>\n",
       "      <td>...</td>\n",
       "      <td>...</td>\n",
       "      <td>...</td>\n",
       "      <td>...</td>\n",
       "      <td>...</td>\n",
       "      <td>...</td>\n",
       "      <td>...</td>\n",
       "      <td>...</td>\n",
       "      <td>...</td>\n",
       "      <td>...</td>\n",
       "    </tr>\n",
       "    <tr>\n",
       "      <th>51712</th>\n",
       "      <td>Best Brews - Four Points by Sheraton Bengaluru...</td>\n",
       "      <td>No</td>\n",
       "      <td>No</td>\n",
       "      <td>3.6 /5</td>\n",
       "      <td>27</td>\n",
       "      <td>Whitefield</td>\n",
       "      <td>Bar</td>\n",
       "      <td>NaN</td>\n",
       "      <td>Continental</td>\n",
       "      <td>1,500</td>\n",
       "      <td>[]</td>\n",
       "      <td>Pubs and bars</td>\n",
       "      <td>Whitefield</td>\n",
       "    </tr>\n",
       "    <tr>\n",
       "      <th>51713</th>\n",
       "      <td>Vinod Bar And Restaurant</td>\n",
       "      <td>No</td>\n",
       "      <td>No</td>\n",
       "      <td>NaN</td>\n",
       "      <td>0</td>\n",
       "      <td>Whitefield</td>\n",
       "      <td>Bar</td>\n",
       "      <td>NaN</td>\n",
       "      <td>Finger Food</td>\n",
       "      <td>600</td>\n",
       "      <td>[]</td>\n",
       "      <td>Pubs and bars</td>\n",
       "      <td>Whitefield</td>\n",
       "    </tr>\n",
       "    <tr>\n",
       "      <th>51714</th>\n",
       "      <td>Plunge - Sheraton Grand Bengaluru Whitefield H...</td>\n",
       "      <td>No</td>\n",
       "      <td>No</td>\n",
       "      <td>NaN</td>\n",
       "      <td>0</td>\n",
       "      <td>Whitefield</td>\n",
       "      <td>Bar</td>\n",
       "      <td>NaN</td>\n",
       "      <td>Finger Food</td>\n",
       "      <td>2,000</td>\n",
       "      <td>[]</td>\n",
       "      <td>Pubs and bars</td>\n",
       "      <td>Whitefield</td>\n",
       "    </tr>\n",
       "    <tr>\n",
       "      <th>51715</th>\n",
       "      <td>Chime - Sheraton Grand Bengaluru Whitefield Ho...</td>\n",
       "      <td>No</td>\n",
       "      <td>Yes</td>\n",
       "      <td>4.3 /5</td>\n",
       "      <td>236</td>\n",
       "      <td>ITPL Main Road, Whitefield</td>\n",
       "      <td>Bar</td>\n",
       "      <td>Cocktails, Pizza, Buttermilk</td>\n",
       "      <td>Finger Food</td>\n",
       "      <td>2,500</td>\n",
       "      <td>[]</td>\n",
       "      <td>Pubs and bars</td>\n",
       "      <td>Whitefield</td>\n",
       "    </tr>\n",
       "    <tr>\n",
       "      <th>51716</th>\n",
       "      <td>The Nest - The Den Bengaluru</td>\n",
       "      <td>No</td>\n",
       "      <td>No</td>\n",
       "      <td>3.4 /5</td>\n",
       "      <td>13</td>\n",
       "      <td>ITPL Main Road, Whitefield</td>\n",
       "      <td>Bar, Casual Dining</td>\n",
       "      <td>NaN</td>\n",
       "      <td>Finger Food, North Indian, Continental</td>\n",
       "      <td>1,500</td>\n",
       "      <td>[]</td>\n",
       "      <td>Pubs and bars</td>\n",
       "      <td>Whitefield</td>\n",
       "    </tr>\n",
       "  </tbody>\n",
       "</table>\n",
       "<p>51717 rows × 13 columns</p>\n",
       "</div>"
      ],
      "text/plain": [
       "                                                    name online_order  \\\n",
       "0                                                  Jalsa          Yes   \n",
       "1                                         Spice Elephant          Yes   \n",
       "2                                        San Churro Cafe          Yes   \n",
       "3                                  Addhuri Udupi Bhojana           No   \n",
       "4                                          Grand Village           No   \n",
       "...                                                  ...          ...   \n",
       "51712  Best Brews - Four Points by Sheraton Bengaluru...           No   \n",
       "51713                           Vinod Bar And Restaurant           No   \n",
       "51714  Plunge - Sheraton Grand Bengaluru Whitefield H...           No   \n",
       "51715  Chime - Sheraton Grand Bengaluru Whitefield Ho...           No   \n",
       "51716                       The Nest - The Den Bengaluru           No   \n",
       "\n",
       "      book_table    rate  votes                    location  \\\n",
       "0            Yes   4.1/5    775                Banashankari   \n",
       "1             No   4.1/5    787                Banashankari   \n",
       "2             No   3.8/5    918                Banashankari   \n",
       "3             No   3.7/5     88                Banashankari   \n",
       "4             No   3.8/5    166                Basavanagudi   \n",
       "...          ...     ...    ...                         ...   \n",
       "51712         No  3.6 /5     27                  Whitefield   \n",
       "51713         No     NaN      0                  Whitefield   \n",
       "51714         No     NaN      0                  Whitefield   \n",
       "51715        Yes  4.3 /5    236  ITPL Main Road, Whitefield   \n",
       "51716         No  3.4 /5     13  ITPL Main Road, Whitefield   \n",
       "\n",
       "                 rest_type                                         dish_liked  \\\n",
       "0            Casual Dining  Pasta, Lunch Buffet, Masala Papad, Paneer Laja...   \n",
       "1            Casual Dining  Momos, Lunch Buffet, Chocolate Nirvana, Thai G...   \n",
       "2      Cafe, Casual Dining  Churros, Cannelloni, Minestrone Soup, Hot Choc...   \n",
       "3              Quick Bites                                        Masala Dosa   \n",
       "4            Casual Dining                                Panipuri, Gol Gappe   \n",
       "...                    ...                                                ...   \n",
       "51712                  Bar                                                NaN   \n",
       "51713                  Bar                                                NaN   \n",
       "51714                  Bar                                                NaN   \n",
       "51715                  Bar                       Cocktails, Pizza, Buttermilk   \n",
       "51716   Bar, Casual Dining                                                NaN   \n",
       "\n",
       "                                     cuisines approx_cost(for two people)  \\\n",
       "0              North Indian, Mughlai, Chinese                         800   \n",
       "1                 Chinese, North Indian, Thai                         800   \n",
       "2                      Cafe, Mexican, Italian                         800   \n",
       "3                  South Indian, North Indian                         300   \n",
       "4                    North Indian, Rajasthani                         600   \n",
       "...                                       ...                         ...   \n",
       "51712                             Continental                       1,500   \n",
       "51713                             Finger Food                         600   \n",
       "51714                             Finger Food                       2,000   \n",
       "51715                             Finger Food                       2,500   \n",
       "51716  Finger Food, North Indian, Continental                       1,500   \n",
       "\n",
       "      menu_item listed_in(type) listed_in(city)  \n",
       "0            []          Buffet    Banashankari  \n",
       "1            []          Buffet    Banashankari  \n",
       "2            []          Buffet    Banashankari  \n",
       "3            []          Buffet    Banashankari  \n",
       "4            []          Buffet    Banashankari  \n",
       "...         ...             ...             ...  \n",
       "51712        []   Pubs and bars      Whitefield  \n",
       "51713        []   Pubs and bars      Whitefield  \n",
       "51714        []   Pubs and bars      Whitefield  \n",
       "51715        []   Pubs and bars      Whitefield  \n",
       "51716        []   Pubs and bars      Whitefield  \n",
       "\n",
       "[51717 rows x 13 columns]"
      ]
     },
     "execution_count": 7,
     "metadata": {},
     "output_type": "execute_result"
    }
   ],
   "source": [
    "zomato_df"
   ]
  },
  {
   "cell_type": "code",
   "execution_count": 8,
   "metadata": {},
   "outputs": [
    {
     "name": "stdout",
     "output_type": "stream",
     "text": [
      "<class 'pandas.core.frame.DataFrame'>\n",
      "RangeIndex: 51717 entries, 0 to 51716\n",
      "Data columns (total 13 columns):\n",
      " #   Column                       Non-Null Count  Dtype \n",
      "---  ------                       --------------  ----- \n",
      " 0   name                         51717 non-null  object\n",
      " 1   online_order                 51717 non-null  object\n",
      " 2   book_table                   51717 non-null  object\n",
      " 3   rate                         43942 non-null  object\n",
      " 4   votes                        51717 non-null  int64 \n",
      " 5   location                     51696 non-null  object\n",
      " 6   rest_type                    51490 non-null  object\n",
      " 7   dish_liked                   23639 non-null  object\n",
      " 8   cuisines                     51672 non-null  object\n",
      " 9   approx_cost(for two people)  51371 non-null  object\n",
      " 10  menu_item                    51717 non-null  object\n",
      " 11  listed_in(type)              51717 non-null  object\n",
      " 12  listed_in(city)              51717 non-null  object\n",
      "dtypes: int64(1), object(12)\n",
      "memory usage: 5.1+ MB\n"
     ]
    }
   ],
   "source": [
    "zomato_df.info()"
   ]
  },
  {
   "cell_type": "markdown",
   "metadata": {},
   "source": [
    "Here u see it has 13 columns. we should rename the column so use it in our analysis easily."
   ]
  },
  {
   "cell_type": "code",
   "execution_count": 9,
   "metadata": {},
   "outputs": [],
   "source": [
    "zomato_df=zomato_df.rename(columns={\"name\":'Name','rate':'Ratings','votes':'Votes','rest_type':'Rest_Type','cuisines':'Cuisines','approx_cost(for two people)':'Cost','listed_in(type)':'Type','listed_in(city)':'City','online_order':'Takes_online_orders','book_table':'Has_table_booking'})"
   ]
  },
  {
   "cell_type": "markdown",
   "metadata": {},
   "source": [
    "Most columns have the data type object, either because they contain values of different types or contain empty values (NaN). It appears that every column contains some empty values since the Non-Null count for some column is lower than the total number of rows (51717). We'll need to deal with empty values and manually adjust the data type for each column on a case-by-case basis.\n",
    "\n",
    "Only one of the columns were detected as numeric columns (votes), Cost column have mostly numeric values. It has some unwanted character so it should be removed. So define a function to remove the ',' character into empty spaces and data returned will be converted into float data type in the function itself."
   ]
  },
  {
   "cell_type": "code",
   "execution_count": 10,
   "metadata": {},
   "outputs": [
    {
     "data": {
      "text/plain": [
       "array(['800', '300', '600', '700', '550', '500', '450', '650', '400',\n",
       "       '900', '200', '750', '150', '850', '100', '1,200', '350', '250',\n",
       "       '950', '1,000', '1,500', '1,300', '199', '80', '1,100', '160',\n",
       "       '1,600', '230', '130', '50', '190', '1,700', nan, '1,400', '180',\n",
       "       '1,350', '2,200', '2,000', '1,800', '1,900', '330', '2,500',\n",
       "       '2,100', '3,000', '2,800', '3,400', '40', '1,250', '3,500',\n",
       "       '4,000', '2,400', '2,600', '120', '1,450', '469', '70', '3,200',\n",
       "       '60', '560', '240', '360', '6,000', '1,050', '2,300', '4,100',\n",
       "       '5,000', '3,700', '1,650', '2,700', '4,500', '140'], dtype=object)"
      ]
     },
     "execution_count": 10,
     "metadata": {},
     "output_type": "execute_result"
    }
   ],
   "source": [
    "zomato_df[\"Cost\"].unique()"
   ]
  },
  {
   "cell_type": "code",
   "execution_count": 11,
   "metadata": {},
   "outputs": [],
   "source": [
    "def cost(value):\n",
    "    value = str(value)\n",
    "    if \",\" in value:\n",
    "        value = float(value.replace(\",\",\"\"))\n",
    "        return value\n",
    "    else:\n",
    "        return float(value)\n",
    "zomato_df['Cost'] = zomato_df['Cost'].apply(cost)"
   ]
  },
  {
   "cell_type": "code",
   "execution_count": 12,
   "metadata": {},
   "outputs": [
    {
     "data": {
      "text/plain": [
       "array([ 800.,  300.,  600.,  700.,  550.,  500.,  450.,  650.,  400.,\n",
       "        900.,  200.,  750.,  150.,  850.,  100., 1200.,  350.,  250.,\n",
       "        950., 1000., 1500., 1300.,  199.,   80., 1100.,  160., 1600.,\n",
       "        230.,  130.,   50.,  190., 1700.,   nan, 1400.,  180., 1350.,\n",
       "       2200., 2000., 1800., 1900.,  330., 2500., 2100., 3000., 2800.,\n",
       "       3400.,   40., 1250., 3500., 4000., 2400., 2600.,  120., 1450.,\n",
       "        469.,   70., 3200.,   60.,  560.,  240.,  360., 6000., 1050.,\n",
       "       2300., 4100., 5000., 3700., 1650., 2700., 4500.,  140.])"
      ]
     },
     "execution_count": 12,
     "metadata": {},
     "output_type": "execute_result"
    }
   ],
   "source": [
    "zomato_df['Cost'].unique()"
   ]
  },
  {
   "cell_type": "markdown",
   "metadata": {},
   "source": [
    "Dataset has some duplicated values.It should be dropped from the dataset to do further analysis."
   ]
  },
  {
   "cell_type": "code",
   "execution_count": 13,
   "metadata": {},
   "outputs": [
    {
     "data": {
      "text/html": [
       "<div>\n",
       "<style scoped>\n",
       "    .dataframe tbody tr th:only-of-type {\n",
       "        vertical-align: middle;\n",
       "    }\n",
       "\n",
       "    .dataframe tbody tr th {\n",
       "        vertical-align: top;\n",
       "    }\n",
       "\n",
       "    .dataframe thead th {\n",
       "        text-align: right;\n",
       "    }\n",
       "</style>\n",
       "<table border=\"1\" class=\"dataframe\">\n",
       "  <thead>\n",
       "    <tr style=\"text-align: right;\">\n",
       "      <th></th>\n",
       "      <th>Name</th>\n",
       "      <th>Takes_online_orders</th>\n",
       "      <th>Has_table_booking</th>\n",
       "      <th>Ratings</th>\n",
       "      <th>Votes</th>\n",
       "      <th>location</th>\n",
       "      <th>Rest_Type</th>\n",
       "      <th>dish_liked</th>\n",
       "      <th>Cuisines</th>\n",
       "      <th>Cost</th>\n",
       "      <th>menu_item</th>\n",
       "      <th>Type</th>\n",
       "      <th>City</th>\n",
       "    </tr>\n",
       "  </thead>\n",
       "  <tbody>\n",
       "    <tr>\n",
       "      <th>596</th>\n",
       "      <td>My Tea House</td>\n",
       "      <td>Yes</td>\n",
       "      <td>Yes</td>\n",
       "      <td>NEW</td>\n",
       "      <td>0</td>\n",
       "      <td>Banashankari</td>\n",
       "      <td>Casual Dining</td>\n",
       "      <td>NaN</td>\n",
       "      <td>Continental, Asian, North Indian, Tea</td>\n",
       "      <td>500.0</td>\n",
       "      <td>['MTH Signature Soup', 'Minestrone Veg', 'Broc...</td>\n",
       "      <td>Dine-out</td>\n",
       "      <td>Banashankari</td>\n",
       "    </tr>\n",
       "    <tr>\n",
       "      <th>2235</th>\n",
       "      <td>Shiv Sagar</td>\n",
       "      <td>No</td>\n",
       "      <td>No</td>\n",
       "      <td>3.6/5</td>\n",
       "      <td>10</td>\n",
       "      <td>Bannerghatta Road</td>\n",
       "      <td>Food Court</td>\n",
       "      <td>NaN</td>\n",
       "      <td>South Indian, Beverages</td>\n",
       "      <td>400.0</td>\n",
       "      <td>[]</td>\n",
       "      <td>Dine-out</td>\n",
       "      <td>Bannerghatta Road</td>\n",
       "    </tr>\n",
       "    <tr>\n",
       "      <th>3763</th>\n",
       "      <td>The Fisherman's Wharf</td>\n",
       "      <td>Yes</td>\n",
       "      <td>Yes</td>\n",
       "      <td>4.4/5</td>\n",
       "      <td>4099</td>\n",
       "      <td>Sarjapur Road</td>\n",
       "      <td>Casual Dining, Bar</td>\n",
       "      <td>Sea Food, Caesar Salad, Jumbo Prawns, Cocktail...</td>\n",
       "      <td>Seafood, Goan, North Indian, Continental, Asian</td>\n",
       "      <td>1400.0</td>\n",
       "      <td>[]</td>\n",
       "      <td>Buffet</td>\n",
       "      <td>Bellandur</td>\n",
       "    </tr>\n",
       "    <tr>\n",
       "      <th>4339</th>\n",
       "      <td>Biryani Treat</td>\n",
       "      <td>No</td>\n",
       "      <td>No</td>\n",
       "      <td>NaN</td>\n",
       "      <td>0</td>\n",
       "      <td>Bellandur</td>\n",
       "      <td>Quick Bites</td>\n",
       "      <td>NaN</td>\n",
       "      <td>Biryani</td>\n",
       "      <td>400.0</td>\n",
       "      <td>[]</td>\n",
       "      <td>Delivery</td>\n",
       "      <td>Bellandur</td>\n",
       "    </tr>\n",
       "    <tr>\n",
       "      <th>4949</th>\n",
       "      <td>OPUS Club</td>\n",
       "      <td>No</td>\n",
       "      <td>Yes</td>\n",
       "      <td>4.4/5</td>\n",
       "      <td>1496</td>\n",
       "      <td>Sarjapur Road</td>\n",
       "      <td>Pub</td>\n",
       "      <td>Biryani, Cocktails, Nachos, Mocktails, Long Is...</td>\n",
       "      <td>Continental, Italian, North Indian, Mexican</td>\n",
       "      <td>1900.0</td>\n",
       "      <td>[]</td>\n",
       "      <td>Drinks &amp; nightlife</td>\n",
       "      <td>Bellandur</td>\n",
       "    </tr>\n",
       "    <tr>\n",
       "      <th>...</th>\n",
       "      <td>...</td>\n",
       "      <td>...</td>\n",
       "      <td>...</td>\n",
       "      <td>...</td>\n",
       "      <td>...</td>\n",
       "      <td>...</td>\n",
       "      <td>...</td>\n",
       "      <td>...</td>\n",
       "      <td>...</td>\n",
       "      <td>...</td>\n",
       "      <td>...</td>\n",
       "      <td>...</td>\n",
       "      <td>...</td>\n",
       "    </tr>\n",
       "    <tr>\n",
       "      <th>49193</th>\n",
       "      <td>Sri Ganesh Juice Junction</td>\n",
       "      <td>Yes</td>\n",
       "      <td>No</td>\n",
       "      <td>3.5 /5</td>\n",
       "      <td>6</td>\n",
       "      <td>Bellandur</td>\n",
       "      <td>Beverage Shop</td>\n",
       "      <td>NaN</td>\n",
       "      <td>Juices, Fast Food</td>\n",
       "      <td>200.0</td>\n",
       "      <td>[]</td>\n",
       "      <td>Delivery</td>\n",
       "      <td>Sarjapur Road</td>\n",
       "    </tr>\n",
       "    <tr>\n",
       "      <th>49432</th>\n",
       "      <td>Biryani Treat</td>\n",
       "      <td>No</td>\n",
       "      <td>No</td>\n",
       "      <td>NaN</td>\n",
       "      <td>0</td>\n",
       "      <td>Bellandur</td>\n",
       "      <td>Quick Bites</td>\n",
       "      <td>NaN</td>\n",
       "      <td>Biryani</td>\n",
       "      <td>400.0</td>\n",
       "      <td>[]</td>\n",
       "      <td>Delivery</td>\n",
       "      <td>Sarjapur Road</td>\n",
       "    </tr>\n",
       "    <tr>\n",
       "      <th>50379</th>\n",
       "      <td>House Of Candy</td>\n",
       "      <td>Yes</td>\n",
       "      <td>No</td>\n",
       "      <td>NaN</td>\n",
       "      <td>0</td>\n",
       "      <td>Whitefield</td>\n",
       "      <td>Confectionery</td>\n",
       "      <td>NaN</td>\n",
       "      <td>Desserts</td>\n",
       "      <td>200.0</td>\n",
       "      <td>[]</td>\n",
       "      <td>Delivery</td>\n",
       "      <td>Whitefield</td>\n",
       "    </tr>\n",
       "    <tr>\n",
       "      <th>50405</th>\n",
       "      <td>House Of Candy</td>\n",
       "      <td>Yes</td>\n",
       "      <td>No</td>\n",
       "      <td>NaN</td>\n",
       "      <td>0</td>\n",
       "      <td>Whitefield</td>\n",
       "      <td>Confectionery</td>\n",
       "      <td>NaN</td>\n",
       "      <td>Desserts</td>\n",
       "      <td>200.0</td>\n",
       "      <td>[]</td>\n",
       "      <td>Delivery</td>\n",
       "      <td>Whitefield</td>\n",
       "    </tr>\n",
       "    <tr>\n",
       "      <th>50904</th>\n",
       "      <td>Nawab Di Biryani</td>\n",
       "      <td>Yes</td>\n",
       "      <td>No</td>\n",
       "      <td>NEW</td>\n",
       "      <td>0</td>\n",
       "      <td>Whitefield</td>\n",
       "      <td>Takeaway, Delivery</td>\n",
       "      <td>NaN</td>\n",
       "      <td>Biryani, Mughlai</td>\n",
       "      <td>400.0</td>\n",
       "      <td>[]</td>\n",
       "      <td>Delivery</td>\n",
       "      <td>Whitefield</td>\n",
       "    </tr>\n",
       "  </tbody>\n",
       "</table>\n",
       "<p>87 rows × 13 columns</p>\n",
       "</div>"
      ],
      "text/plain": [
       "                            Name Takes_online_orders Has_table_booking  \\\n",
       "596                 My Tea House                 Yes               Yes   \n",
       "2235                  Shiv Sagar                  No                No   \n",
       "3763       The Fisherman's Wharf                 Yes               Yes   \n",
       "4339               Biryani Treat                  No                No   \n",
       "4949                   OPUS Club                  No               Yes   \n",
       "...                          ...                 ...               ...   \n",
       "49193  Sri Ganesh Juice Junction                 Yes                No   \n",
       "49432              Biryani Treat                  No                No   \n",
       "50379             House Of Candy                 Yes                No   \n",
       "50405             House Of Candy                 Yes                No   \n",
       "50904           Nawab Di Biryani                 Yes                No   \n",
       "\n",
       "      Ratings  Votes           location           Rest_Type  \\\n",
       "596       NEW      0       Banashankari       Casual Dining   \n",
       "2235    3.6/5     10  Bannerghatta Road          Food Court   \n",
       "3763    4.4/5   4099      Sarjapur Road  Casual Dining, Bar   \n",
       "4339      NaN      0          Bellandur         Quick Bites   \n",
       "4949    4.4/5   1496      Sarjapur Road                 Pub   \n",
       "...       ...    ...                ...                 ...   \n",
       "49193  3.5 /5      6          Bellandur       Beverage Shop   \n",
       "49432     NaN      0          Bellandur         Quick Bites   \n",
       "50379     NaN      0         Whitefield       Confectionery   \n",
       "50405     NaN      0         Whitefield       Confectionery   \n",
       "50904     NEW      0         Whitefield  Takeaway, Delivery   \n",
       "\n",
       "                                              dish_liked  \\\n",
       "596                                                  NaN   \n",
       "2235                                                 NaN   \n",
       "3763   Sea Food, Caesar Salad, Jumbo Prawns, Cocktail...   \n",
       "4339                                                 NaN   \n",
       "4949   Biryani, Cocktails, Nachos, Mocktails, Long Is...   \n",
       "...                                                  ...   \n",
       "49193                                                NaN   \n",
       "49432                                                NaN   \n",
       "50379                                                NaN   \n",
       "50405                                                NaN   \n",
       "50904                                                NaN   \n",
       "\n",
       "                                              Cuisines    Cost  \\\n",
       "596              Continental, Asian, North Indian, Tea   500.0   \n",
       "2235                           South Indian, Beverages   400.0   \n",
       "3763   Seafood, Goan, North Indian, Continental, Asian  1400.0   \n",
       "4339                                           Biryani   400.0   \n",
       "4949       Continental, Italian, North Indian, Mexican  1900.0   \n",
       "...                                                ...     ...   \n",
       "49193                                Juices, Fast Food   200.0   \n",
       "49432                                          Biryani   400.0   \n",
       "50379                                         Desserts   200.0   \n",
       "50405                                         Desserts   200.0   \n",
       "50904                                 Biryani, Mughlai   400.0   \n",
       "\n",
       "                                               menu_item                Type  \\\n",
       "596    ['MTH Signature Soup', 'Minestrone Veg', 'Broc...            Dine-out   \n",
       "2235                                                  []            Dine-out   \n",
       "3763                                                  []              Buffet   \n",
       "4339                                                  []            Delivery   \n",
       "4949                                                  []  Drinks & nightlife   \n",
       "...                                                  ...                 ...   \n",
       "49193                                                 []            Delivery   \n",
       "49432                                                 []            Delivery   \n",
       "50379                                                 []            Delivery   \n",
       "50405                                                 []            Delivery   \n",
       "50904                                                 []            Delivery   \n",
       "\n",
       "                    City  \n",
       "596         Banashankari  \n",
       "2235   Bannerghatta Road  \n",
       "3763           Bellandur  \n",
       "4339           Bellandur  \n",
       "4949           Bellandur  \n",
       "...                  ...  \n",
       "49193      Sarjapur Road  \n",
       "49432      Sarjapur Road  \n",
       "50379         Whitefield  \n",
       "50405         Whitefield  \n",
       "50904         Whitefield  \n",
       "\n",
       "[87 rows x 13 columns]"
      ]
     },
     "execution_count": 13,
     "metadata": {},
     "output_type": "execute_result"
    }
   ],
   "source": [
    "df_duplicates=zomato_df.duplicated()\n",
    "zomato_df[df_duplicates]"
   ]
  },
  {
   "cell_type": "markdown",
   "metadata": {},
   "source": [
    "87 duplicated rows are found so it should be removed from the dataset."
   ]
  },
  {
   "cell_type": "code",
   "execution_count": 14,
   "metadata": {},
   "outputs": [
    {
     "data": {
      "application/javascript": [
       "if (window.IPython && IPython.notebook.kernel) IPython.notebook.kernel.execute('jovian.utils.jupyter.get_notebook_name_saved = lambda: \"' + IPython.notebook.notebook_name + '\"')"
      ],
      "text/plain": [
       "<IPython.core.display.Javascript object>"
      ]
     },
     "metadata": {},
     "output_type": "display_data"
    }
   ],
   "source": [
    "import jovian"
   ]
  },
  {
   "cell_type": "code",
   "execution_count": 15,
   "metadata": {},
   "outputs": [
    {
     "data": {
      "text/html": [
       "<div>\n",
       "<style scoped>\n",
       "    .dataframe tbody tr th:only-of-type {\n",
       "        vertical-align: middle;\n",
       "    }\n",
       "\n",
       "    .dataframe tbody tr th {\n",
       "        vertical-align: top;\n",
       "    }\n",
       "\n",
       "    .dataframe thead th {\n",
       "        text-align: right;\n",
       "    }\n",
       "</style>\n",
       "<table border=\"1\" class=\"dataframe\">\n",
       "  <thead>\n",
       "    <tr style=\"text-align: right;\">\n",
       "      <th></th>\n",
       "      <th>Name</th>\n",
       "      <th>Takes_online_orders</th>\n",
       "      <th>Has_table_booking</th>\n",
       "      <th>Ratings</th>\n",
       "      <th>Votes</th>\n",
       "      <th>location</th>\n",
       "      <th>Rest_Type</th>\n",
       "      <th>dish_liked</th>\n",
       "      <th>Cuisines</th>\n",
       "      <th>Cost</th>\n",
       "      <th>menu_item</th>\n",
       "      <th>Type</th>\n",
       "      <th>City</th>\n",
       "    </tr>\n",
       "  </thead>\n",
       "  <tbody>\n",
       "    <tr>\n",
       "      <th>0</th>\n",
       "      <td>Jalsa</td>\n",
       "      <td>Yes</td>\n",
       "      <td>Yes</td>\n",
       "      <td>4.1/5</td>\n",
       "      <td>775</td>\n",
       "      <td>Banashankari</td>\n",
       "      <td>Casual Dining</td>\n",
       "      <td>Pasta, Lunch Buffet, Masala Papad, Paneer Laja...</td>\n",
       "      <td>North Indian, Mughlai, Chinese</td>\n",
       "      <td>800.0</td>\n",
       "      <td>[]</td>\n",
       "      <td>Buffet</td>\n",
       "      <td>Banashankari</td>\n",
       "    </tr>\n",
       "    <tr>\n",
       "      <th>1</th>\n",
       "      <td>Spice Elephant</td>\n",
       "      <td>Yes</td>\n",
       "      <td>No</td>\n",
       "      <td>4.1/5</td>\n",
       "      <td>787</td>\n",
       "      <td>Banashankari</td>\n",
       "      <td>Casual Dining</td>\n",
       "      <td>Momos, Lunch Buffet, Chocolate Nirvana, Thai G...</td>\n",
       "      <td>Chinese, North Indian, Thai</td>\n",
       "      <td>800.0</td>\n",
       "      <td>[]</td>\n",
       "      <td>Buffet</td>\n",
       "      <td>Banashankari</td>\n",
       "    </tr>\n",
       "    <tr>\n",
       "      <th>2</th>\n",
       "      <td>San Churro Cafe</td>\n",
       "      <td>Yes</td>\n",
       "      <td>No</td>\n",
       "      <td>3.8/5</td>\n",
       "      <td>918</td>\n",
       "      <td>Banashankari</td>\n",
       "      <td>Cafe, Casual Dining</td>\n",
       "      <td>Churros, Cannelloni, Minestrone Soup, Hot Choc...</td>\n",
       "      <td>Cafe, Mexican, Italian</td>\n",
       "      <td>800.0</td>\n",
       "      <td>[]</td>\n",
       "      <td>Buffet</td>\n",
       "      <td>Banashankari</td>\n",
       "    </tr>\n",
       "    <tr>\n",
       "      <th>3</th>\n",
       "      <td>Addhuri Udupi Bhojana</td>\n",
       "      <td>No</td>\n",
       "      <td>No</td>\n",
       "      <td>3.7/5</td>\n",
       "      <td>88</td>\n",
       "      <td>Banashankari</td>\n",
       "      <td>Quick Bites</td>\n",
       "      <td>Masala Dosa</td>\n",
       "      <td>South Indian, North Indian</td>\n",
       "      <td>300.0</td>\n",
       "      <td>[]</td>\n",
       "      <td>Buffet</td>\n",
       "      <td>Banashankari</td>\n",
       "    </tr>\n",
       "    <tr>\n",
       "      <th>4</th>\n",
       "      <td>Grand Village</td>\n",
       "      <td>No</td>\n",
       "      <td>No</td>\n",
       "      <td>3.8/5</td>\n",
       "      <td>166</td>\n",
       "      <td>Basavanagudi</td>\n",
       "      <td>Casual Dining</td>\n",
       "      <td>Panipuri, Gol Gappe</td>\n",
       "      <td>North Indian, Rajasthani</td>\n",
       "      <td>600.0</td>\n",
       "      <td>[]</td>\n",
       "      <td>Buffet</td>\n",
       "      <td>Banashankari</td>\n",
       "    </tr>\n",
       "    <tr>\n",
       "      <th>...</th>\n",
       "      <td>...</td>\n",
       "      <td>...</td>\n",
       "      <td>...</td>\n",
       "      <td>...</td>\n",
       "      <td>...</td>\n",
       "      <td>...</td>\n",
       "      <td>...</td>\n",
       "      <td>...</td>\n",
       "      <td>...</td>\n",
       "      <td>...</td>\n",
       "      <td>...</td>\n",
       "      <td>...</td>\n",
       "      <td>...</td>\n",
       "    </tr>\n",
       "    <tr>\n",
       "      <th>51712</th>\n",
       "      <td>Best Brews - Four Points by Sheraton Bengaluru...</td>\n",
       "      <td>No</td>\n",
       "      <td>No</td>\n",
       "      <td>3.6 /5</td>\n",
       "      <td>27</td>\n",
       "      <td>Whitefield</td>\n",
       "      <td>Bar</td>\n",
       "      <td>NaN</td>\n",
       "      <td>Continental</td>\n",
       "      <td>1500.0</td>\n",
       "      <td>[]</td>\n",
       "      <td>Pubs and bars</td>\n",
       "      <td>Whitefield</td>\n",
       "    </tr>\n",
       "    <tr>\n",
       "      <th>51713</th>\n",
       "      <td>Vinod Bar And Restaurant</td>\n",
       "      <td>No</td>\n",
       "      <td>No</td>\n",
       "      <td>NaN</td>\n",
       "      <td>0</td>\n",
       "      <td>Whitefield</td>\n",
       "      <td>Bar</td>\n",
       "      <td>NaN</td>\n",
       "      <td>Finger Food</td>\n",
       "      <td>600.0</td>\n",
       "      <td>[]</td>\n",
       "      <td>Pubs and bars</td>\n",
       "      <td>Whitefield</td>\n",
       "    </tr>\n",
       "    <tr>\n",
       "      <th>51714</th>\n",
       "      <td>Plunge - Sheraton Grand Bengaluru Whitefield H...</td>\n",
       "      <td>No</td>\n",
       "      <td>No</td>\n",
       "      <td>NaN</td>\n",
       "      <td>0</td>\n",
       "      <td>Whitefield</td>\n",
       "      <td>Bar</td>\n",
       "      <td>NaN</td>\n",
       "      <td>Finger Food</td>\n",
       "      <td>2000.0</td>\n",
       "      <td>[]</td>\n",
       "      <td>Pubs and bars</td>\n",
       "      <td>Whitefield</td>\n",
       "    </tr>\n",
       "    <tr>\n",
       "      <th>51715</th>\n",
       "      <td>Chime - Sheraton Grand Bengaluru Whitefield Ho...</td>\n",
       "      <td>No</td>\n",
       "      <td>Yes</td>\n",
       "      <td>4.3 /5</td>\n",
       "      <td>236</td>\n",
       "      <td>ITPL Main Road, Whitefield</td>\n",
       "      <td>Bar</td>\n",
       "      <td>Cocktails, Pizza, Buttermilk</td>\n",
       "      <td>Finger Food</td>\n",
       "      <td>2500.0</td>\n",
       "      <td>[]</td>\n",
       "      <td>Pubs and bars</td>\n",
       "      <td>Whitefield</td>\n",
       "    </tr>\n",
       "    <tr>\n",
       "      <th>51716</th>\n",
       "      <td>The Nest - The Den Bengaluru</td>\n",
       "      <td>No</td>\n",
       "      <td>No</td>\n",
       "      <td>3.4 /5</td>\n",
       "      <td>13</td>\n",
       "      <td>ITPL Main Road, Whitefield</td>\n",
       "      <td>Bar, Casual Dining</td>\n",
       "      <td>NaN</td>\n",
       "      <td>Finger Food, North Indian, Continental</td>\n",
       "      <td>1500.0</td>\n",
       "      <td>[]</td>\n",
       "      <td>Pubs and bars</td>\n",
       "      <td>Whitefield</td>\n",
       "    </tr>\n",
       "  </tbody>\n",
       "</table>\n",
       "<p>51630 rows × 13 columns</p>\n",
       "</div>"
      ],
      "text/plain": [
       "                                                    Name Takes_online_orders  \\\n",
       "0                                                  Jalsa                 Yes   \n",
       "1                                         Spice Elephant                 Yes   \n",
       "2                                        San Churro Cafe                 Yes   \n",
       "3                                  Addhuri Udupi Bhojana                  No   \n",
       "4                                          Grand Village                  No   \n",
       "...                                                  ...                 ...   \n",
       "51712  Best Brews - Four Points by Sheraton Bengaluru...                  No   \n",
       "51713                           Vinod Bar And Restaurant                  No   \n",
       "51714  Plunge - Sheraton Grand Bengaluru Whitefield H...                  No   \n",
       "51715  Chime - Sheraton Grand Bengaluru Whitefield Ho...                  No   \n",
       "51716                       The Nest - The Den Bengaluru                  No   \n",
       "\n",
       "      Has_table_booking Ratings  Votes                    location  \\\n",
       "0                   Yes   4.1/5    775                Banashankari   \n",
       "1                    No   4.1/5    787                Banashankari   \n",
       "2                    No   3.8/5    918                Banashankari   \n",
       "3                    No   3.7/5     88                Banashankari   \n",
       "4                    No   3.8/5    166                Basavanagudi   \n",
       "...                 ...     ...    ...                         ...   \n",
       "51712                No  3.6 /5     27                  Whitefield   \n",
       "51713                No     NaN      0                  Whitefield   \n",
       "51714                No     NaN      0                  Whitefield   \n",
       "51715               Yes  4.3 /5    236  ITPL Main Road, Whitefield   \n",
       "51716                No  3.4 /5     13  ITPL Main Road, Whitefield   \n",
       "\n",
       "                 Rest_Type                                         dish_liked  \\\n",
       "0            Casual Dining  Pasta, Lunch Buffet, Masala Papad, Paneer Laja...   \n",
       "1            Casual Dining  Momos, Lunch Buffet, Chocolate Nirvana, Thai G...   \n",
       "2      Cafe, Casual Dining  Churros, Cannelloni, Minestrone Soup, Hot Choc...   \n",
       "3              Quick Bites                                        Masala Dosa   \n",
       "4            Casual Dining                                Panipuri, Gol Gappe   \n",
       "...                    ...                                                ...   \n",
       "51712                  Bar                                                NaN   \n",
       "51713                  Bar                                                NaN   \n",
       "51714                  Bar                                                NaN   \n",
       "51715                  Bar                       Cocktails, Pizza, Buttermilk   \n",
       "51716   Bar, Casual Dining                                                NaN   \n",
       "\n",
       "                                     Cuisines    Cost menu_item  \\\n",
       "0              North Indian, Mughlai, Chinese   800.0        []   \n",
       "1                 Chinese, North Indian, Thai   800.0        []   \n",
       "2                      Cafe, Mexican, Italian   800.0        []   \n",
       "3                  South Indian, North Indian   300.0        []   \n",
       "4                    North Indian, Rajasthani   600.0        []   \n",
       "...                                       ...     ...       ...   \n",
       "51712                             Continental  1500.0        []   \n",
       "51713                             Finger Food   600.0        []   \n",
       "51714                             Finger Food  2000.0        []   \n",
       "51715                             Finger Food  2500.0        []   \n",
       "51716  Finger Food, North Indian, Continental  1500.0        []   \n",
       "\n",
       "                Type          City  \n",
       "0             Buffet  Banashankari  \n",
       "1             Buffet  Banashankari  \n",
       "2             Buffet  Banashankari  \n",
       "3             Buffet  Banashankari  \n",
       "4             Buffet  Banashankari  \n",
       "...              ...           ...  \n",
       "51712  Pubs and bars    Whitefield  \n",
       "51713  Pubs and bars    Whitefield  \n",
       "51714  Pubs and bars    Whitefield  \n",
       "51715  Pubs and bars    Whitefield  \n",
       "51716  Pubs and bars    Whitefield  \n",
       "\n",
       "[51630 rows x 13 columns]"
      ]
     },
     "execution_count": 15,
     "metadata": {},
     "output_type": "execute_result"
    }
   ],
   "source": [
    "zomato_df.drop_duplicates()"
   ]
  },
  {
   "cell_type": "code",
   "execution_count": 16,
   "metadata": {},
   "outputs": [],
   "source": [
    "import re"
   ]
  },
  {
   "cell_type": "code",
   "execution_count": 17,
   "metadata": {},
   "outputs": [],
   "source": [
    "def name_clean(text):\n",
    "    return re.sub(r\"[^a-zA-Z0-9 ]\", \"\", text)\n",
    "zomato_df['Name'] = zomato_df['Name'].apply(lambda x: name_clean(x))"
   ]
  },
  {
   "cell_type": "code",
   "execution_count": 18,
   "metadata": {},
   "outputs": [
    {
     "data": {
      "text/plain": [
       "array(['4.1/5', '3.8/5', '3.7/5', '3.6/5', '4.6/5', '4.0/5', '4.2/5',\n",
       "       '3.9/5', '3.1/5', '3.0/5', '3.2/5', '3.3/5', '2.8/5', '4.4/5',\n",
       "       '4.3/5', 'NEW', '2.9/5', '3.5/5', nan, '2.6/5', '3.8 /5', '3.4/5',\n",
       "       '4.5/5', '2.5/5', '2.7/5', '4.7/5', '2.4/5', '2.2/5', '2.3/5',\n",
       "       '3.4 /5', '-', '3.6 /5', '4.8/5', '3.9 /5', '4.2 /5', '4.0 /5',\n",
       "       '4.1 /5', '3.7 /5', '3.1 /5', '2.9 /5', '3.3 /5', '2.8 /5',\n",
       "       '3.5 /5', '2.7 /5', '2.5 /5', '3.2 /5', '2.6 /5', '4.5 /5',\n",
       "       '4.3 /5', '4.4 /5', '4.9/5', '2.1/5', '2.0/5', '1.8/5', '4.6 /5',\n",
       "       '4.9 /5', '3.0 /5', '4.8 /5', '2.3 /5', '4.7 /5', '2.4 /5',\n",
       "       '2.1 /5', '2.2 /5', '2.0 /5', '1.8 /5'], dtype=object)"
      ]
     },
     "execution_count": 18,
     "metadata": {},
     "output_type": "execute_result"
    }
   ],
   "source": [
    "zomato_df['Ratings'].unique()"
   ]
  },
  {
   "cell_type": "markdown",
   "metadata": {},
   "source": [
    "In 'Ratings' column it was noted as '4.1/5' .Here '/5' is unwanted data for further analysis. So it should be removed."
   ]
  },
  {
   "cell_type": "code",
   "execution_count": 19,
   "metadata": {},
   "outputs": [],
   "source": [
    "import numpy as np"
   ]
  },
  {
   "cell_type": "code",
   "execution_count": 20,
   "metadata": {},
   "outputs": [],
   "source": [
    "def handlerate(value):\n",
    "    if(value=='NEW' or value=='-'):\n",
    "        return np.nan\n",
    "    else:\n",
    "        value = str(value).split('/')\n",
    "        value = value[0]\n",
    "        return float(value)\n",
    "\n",
    "zomato_df[\"Ratings\"]=zomato_df[\"Ratings\"].apply(lambda x: handlerate(x))\n"
   ]
  },
  {
   "cell_type": "code",
   "execution_count": 21,
   "metadata": {},
   "outputs": [
    {
     "data": {
      "text/plain": [
       "10052"
      ]
     },
     "execution_count": 21,
     "metadata": {},
     "output_type": "execute_result"
    }
   ],
   "source": [
    "zomato_df[\"Ratings\"].isna().sum()"
   ]
  },
  {
   "cell_type": "markdown",
   "metadata": {},
   "source": [
    "'Ratings' column has 'NAN' values. By using sns heatmap we visualize the 'Nan' values in the column."
   ]
  },
  {
   "cell_type": "code",
   "execution_count": 22,
   "metadata": {},
   "outputs": [],
   "source": [
    "import seaborn as sns"
   ]
  },
  {
   "cell_type": "code",
   "execution_count": 23,
   "metadata": {},
   "outputs": [
    {
     "data": {
      "text/plain": [
       "<AxesSubplot:>"
      ]
     },
     "execution_count": 23,
     "metadata": {},
     "output_type": "execute_result"
    },
    {
     "data": {
      "image/png": "[encoded data removed]",
      "text/plain": [
       "<Figure size 432x288 with 1 Axes>"
      ]
     },
     "metadata": {
      "needs_background": "light"
     },
     "output_type": "display_data"
    }
   ],
   "source": [
    "sns.heatmap(zomato_df.isnull(),yticklabels=False,cbar=False,cmap='mako')"
   ]
  },
  {
   "cell_type": "markdown",
   "metadata": {},
   "source": [
    "By looking the visual we can see rating, dish_liked, cost,rest type has null values. Either it should be droped or it will get replaced by particular column's mean and medium values"
   ]
  },
  {
   "cell_type": "code",
   "execution_count": 24,
   "metadata": {},
   "outputs": [],
   "source": [
    "zomato_df=zomato_df.dropna()"
   ]
  },
  {
   "cell_type": "code",
   "execution_count": 25,
   "metadata": {},
   "outputs": [
    {
     "data": {
      "text/plain": [
       "Name                   0\n",
       "Takes_online_orders    0\n",
       "Has_table_booking      0\n",
       "Ratings                0\n",
       "Votes                  0\n",
       "location               0\n",
       "Rest_Type              0\n",
       "dish_liked             0\n",
       "Cuisines               0\n",
       "Cost                   0\n",
       "menu_item              0\n",
       "Type                   0\n",
       "City                   0\n",
       "dtype: int64"
      ]
     },
     "execution_count": 25,
     "metadata": {},
     "output_type": "execute_result"
    }
   ],
   "source": [
    "zomato_df.isnull().sum()"
   ]
  },
  {
   "cell_type": "code",
   "execution_count": 26,
   "metadata": {},
   "outputs": [
    {
     "data": {
      "text/plain": [
       "Casual Dining                7331\n",
       "Quick Bites                  5253\n",
       "Cafe                         2375\n",
       "Dessert Parlor               1083\n",
       "Casual Dining, Bar            985\n",
       "                             ... \n",
       "Bar, Pub                        5\n",
       "Club, Casual Dining             4\n",
       "Dessert Parlor, Kiosk           2\n",
       "Dhaba                           1\n",
       "Food Court, Casual Dining       1\n",
       "Name: Rest_Type, Length: 73, dtype: int64"
      ]
     },
     "execution_count": 26,
     "metadata": {},
     "output_type": "execute_result"
    }
   ],
   "source": [
    "rest_types = zomato_df['Rest_Type'].value_counts(ascending  = False)\n",
    "rest_types"
   ]
  },
  {
   "cell_type": "code",
   "execution_count": 27,
   "metadata": {},
   "outputs": [],
   "source": [
    "rest_types_lessthan1000 = rest_types[rest_types<1000]"
   ]
  },
  {
   "cell_type": "code",
   "execution_count": 28,
   "metadata": {},
   "outputs": [
    {
     "data": {
      "text/plain": [
       "Casual Dining     7331\n",
       "others            7217\n",
       "Quick Bites       5253\n",
       "Cafe              2375\n",
       "Dessert Parlor    1083\n",
       "Name: Rest_Type, dtype: int64"
      ]
     },
     "execution_count": 28,
     "metadata": {},
     "output_type": "execute_result"
    }
   ],
   "source": [
    "def handle_rest_type(value):\n",
    "    if(value in rest_types_lessthan1000):\n",
    "        return 'others'\n",
    "    else:\n",
    "        return value\n",
    "        \n",
    "zomato_df['Rest_Type'] = zomato_df['Rest_Type'].apply(handle_rest_type)\n",
    "zomato_df['Rest_Type'].value_counts()"
   ]
  },
  {
   "cell_type": "code",
   "execution_count": 29,
   "metadata": {},
   "outputs": [
    {
     "data": {
      "text/plain": [
       "Name                   0\n",
       "Takes_online_orders    0\n",
       "Has_table_booking      0\n",
       "Ratings                0\n",
       "Votes                  0\n",
       "location               0\n",
       "Rest_Type              0\n",
       "dish_liked             0\n",
       "Cuisines               0\n",
       "Cost                   0\n",
       "menu_item              0\n",
       "Type                   0\n",
       "City                   0\n",
       "dtype: int64"
      ]
     },
     "execution_count": 29,
     "metadata": {},
     "output_type": "execute_result"
    }
   ],
   "source": [
    "zomato_df.isnull().sum()"
   ]
  },
  {
   "cell_type": "code",
   "execution_count": 30,
   "metadata": {},
   "outputs": [
    {
     "data": {
      "text/plain": [
       "Name                    object\n",
       "Takes_online_orders     object\n",
       "Has_table_booking       object\n",
       "Ratings                float64\n",
       "Votes                    int64\n",
       "location                object\n",
       "Rest_Type               object\n",
       "dish_liked              object\n",
       "Cuisines                object\n",
       "Cost                   float64\n",
       "menu_item               object\n",
       "Type                    object\n",
       "City                    object\n",
       "dtype: object"
      ]
     },
     "execution_count": 30,
     "metadata": {},
     "output_type": "execute_result"
    }
   ],
   "source": [
    "zomato_df.dtypes"
   ]
  },
  {
   "cell_type": "code",
   "execution_count": 31,
   "metadata": {},
   "outputs": [
    {
     "data": {
      "text/html": [
       "<div>\n",
       "<style scoped>\n",
       "    .dataframe tbody tr th:only-of-type {\n",
       "        vertical-align: middle;\n",
       "    }\n",
       "\n",
       "    .dataframe tbody tr th {\n",
       "        vertical-align: top;\n",
       "    }\n",
       "\n",
       "    .dataframe thead th {\n",
       "        text-align: right;\n",
       "    }\n",
       "</style>\n",
       "<table border=\"1\" class=\"dataframe\">\n",
       "  <thead>\n",
       "    <tr style=\"text-align: right;\">\n",
       "      <th></th>\n",
       "      <th>Name</th>\n",
       "      <th>Takes_online_orders</th>\n",
       "      <th>Has_table_booking</th>\n",
       "      <th>Ratings</th>\n",
       "      <th>Votes</th>\n",
       "      <th>location</th>\n",
       "      <th>Rest_Type</th>\n",
       "      <th>dish_liked</th>\n",
       "      <th>Cuisines</th>\n",
       "      <th>Cost</th>\n",
       "      <th>menu_item</th>\n",
       "      <th>Type</th>\n",
       "      <th>City</th>\n",
       "    </tr>\n",
       "  </thead>\n",
       "  <tbody>\n",
       "    <tr>\n",
       "      <th>24316</th>\n",
       "      <td>Eat Well</td>\n",
       "      <td>Yes</td>\n",
       "      <td>No</td>\n",
       "      <td>3.6</td>\n",
       "      <td>113</td>\n",
       "      <td>Banaswadi</td>\n",
       "      <td>others</td>\n",
       "      <td>Panneer Butter Masala</td>\n",
       "      <td>North Indian</td>\n",
       "      <td>400.0</td>\n",
       "      <td>[]</td>\n",
       "      <td>Delivery</td>\n",
       "      <td>Kalyan Nagar</td>\n",
       "    </tr>\n",
       "    <tr>\n",
       "      <th>13340</th>\n",
       "      <td>ThrowBack  Pub  Dine</td>\n",
       "      <td>No</td>\n",
       "      <td>No</td>\n",
       "      <td>3.9</td>\n",
       "      <td>234</td>\n",
       "      <td>Langford Town</td>\n",
       "      <td>others</td>\n",
       "      <td>Cocktails, Pizza, French Fries</td>\n",
       "      <td>Italian, North Indian, Continental</td>\n",
       "      <td>1000.0</td>\n",
       "      <td>[]</td>\n",
       "      <td>Pubs and bars</td>\n",
       "      <td>Church Street</td>\n",
       "    </tr>\n",
       "    <tr>\n",
       "      <th>34102</th>\n",
       "      <td>Cafemoto</td>\n",
       "      <td>Yes</td>\n",
       "      <td>No</td>\n",
       "      <td>4.0</td>\n",
       "      <td>201</td>\n",
       "      <td>Koramangala 5th Block</td>\n",
       "      <td>Cafe</td>\n",
       "      <td>Burgers, Chicken Burger, Beef Burger, Mojito, ...</td>\n",
       "      <td>Cafe, Continental, Italian, Burger</td>\n",
       "      <td>800.0</td>\n",
       "      <td>[]</td>\n",
       "      <td>Dine-out</td>\n",
       "      <td>Koramangala 6th Block</td>\n",
       "    </tr>\n",
       "    <tr>\n",
       "      <th>4602</th>\n",
       "      <td>BISO  Citrus Hotels</td>\n",
       "      <td>No</td>\n",
       "      <td>No</td>\n",
       "      <td>3.0</td>\n",
       "      <td>120</td>\n",
       "      <td>Bellandur</td>\n",
       "      <td>Casual Dining</td>\n",
       "      <td>Salads, Gulab Jamun, Pasta, Fish, Rasgulla, Co...</td>\n",
       "      <td>North Indian, Italian, Chinese, Asian</td>\n",
       "      <td>1000.0</td>\n",
       "      <td>[]</td>\n",
       "      <td>Dine-out</td>\n",
       "      <td>Bellandur</td>\n",
       "    </tr>\n",
       "    <tr>\n",
       "      <th>32082</th>\n",
       "      <td>Jimis Beer Cafe</td>\n",
       "      <td>No</td>\n",
       "      <td>No</td>\n",
       "      <td>3.8</td>\n",
       "      <td>674</td>\n",
       "      <td>Koramangala 6th Block</td>\n",
       "      <td>others</td>\n",
       "      <td>Beer, Steak, Chilli Chicken, Burgers, Tandoori...</td>\n",
       "      <td>American, North Indian, Chinese</td>\n",
       "      <td>1700.0</td>\n",
       "      <td>[]</td>\n",
       "      <td>Pubs and bars</td>\n",
       "      <td>Koramangala 5th Block</td>\n",
       "    </tr>\n",
       "  </tbody>\n",
       "</table>\n",
       "</div>"
      ],
      "text/plain": [
       "                       Name Takes_online_orders Has_table_booking  Ratings  \\\n",
       "24316              Eat Well                 Yes                No      3.6   \n",
       "13340  ThrowBack  Pub  Dine                  No                No      3.9   \n",
       "34102              Cafemoto                 Yes                No      4.0   \n",
       "4602    BISO  Citrus Hotels                  No                No      3.0   \n",
       "32082       Jimis Beer Cafe                  No                No      3.8   \n",
       "\n",
       "       Votes               location      Rest_Type  \\\n",
       "24316    113              Banaswadi         others   \n",
       "13340    234          Langford Town         others   \n",
       "34102    201  Koramangala 5th Block           Cafe   \n",
       "4602     120              Bellandur  Casual Dining   \n",
       "32082    674  Koramangala 6th Block         others   \n",
       "\n",
       "                                              dish_liked  \\\n",
       "24316                              Panneer Butter Masala   \n",
       "13340                     Cocktails, Pizza, French Fries   \n",
       "34102  Burgers, Chicken Burger, Beef Burger, Mojito, ...   \n",
       "4602   Salads, Gulab Jamun, Pasta, Fish, Rasgulla, Co...   \n",
       "32082  Beer, Steak, Chilli Chicken, Burgers, Tandoori...   \n",
       "\n",
       "                                    Cuisines    Cost menu_item           Type  \\\n",
       "24316                           North Indian   400.0        []       Delivery   \n",
       "13340     Italian, North Indian, Continental  1000.0        []  Pubs and bars   \n",
       "34102     Cafe, Continental, Italian, Burger   800.0        []       Dine-out   \n",
       "4602   North Indian, Italian, Chinese, Asian  1000.0        []       Dine-out   \n",
       "32082        American, North Indian, Chinese  1700.0        []  Pubs and bars   \n",
       "\n",
       "                        City  \n",
       "24316           Kalyan Nagar  \n",
       "13340          Church Street  \n",
       "34102  Koramangala 6th Block  \n",
       "4602               Bellandur  \n",
       "32082  Koramangala 5th Block  "
      ]
     },
     "execution_count": 31,
     "metadata": {},
     "output_type": "execute_result"
    }
   ],
   "source": [
    "df=zomato_df.copy()\n",
    "df.sample(5)"
   ]
  },
  {
   "cell_type": "code",
   "execution_count": 32,
   "metadata": {},
   "outputs": [],
   "source": [
    "import jovian"
   ]
  },
  {
   "cell_type": "code",
   "execution_count": 34,
   "metadata": {},
   "outputs": [],
   "source": [
    "project_name = \"zerotopandas-course-project-zomato-bangalore\""
   ]
  },
  {
   "cell_type": "code",
   "execution_count": 35,
   "metadata": {},
   "outputs": [
    {
     "data": {
      "application/javascript": [
       "window.require && require([\"base/js/namespace\"],function(Jupyter){Jupyter.notebook.save_checkpoint()})"
      ],
      "text/plain": [
       "<IPython.core.display.Javascript object>"
      ]
     },
     "metadata": {},
     "output_type": "display_data"
    },
    {
     "name": "stdout",
     "output_type": "stream",
     "text": [
      "[jovian] Updating notebook \"murale1/zerotopandas-course-project-zomato-bangalore\" on https://jovian.com\u001b[0m\n",
      "[jovian] Committed successfully! https://jovian.com/murale1/zerotopandas-course-project-zomato-bangalore\u001b[0m\n"
     ]
    },
    {
     "data": {
      "text/plain": [
       "'https://jovian.com/murale1/zerotopandas-course-project-zomato-bangalore'"
      ]
     },
     "execution_count": 35,
     "metadata": {},
     "output_type": "execute_result"
    }
   ],
   "source": [
    "jovian.commit(project=project_name)"
   ]
  },
  {
   "cell_type": "markdown",
   "metadata": {},
   "source": [
    "## Exploratory Analysis and Visualization\n",
    "\n"
   ]
  },
  {
   "cell_type": "markdown",
   "metadata": {},
   "source": [
    "Let's begin by importing`matplotlib.pyplot` and `seaborn`."
   ]
  },
  {
   "cell_type": "code",
   "execution_count": 36,
   "metadata": {},
   "outputs": [],
   "source": [
    "import seaborn as sns\n",
    "import matplotlib\n",
    "import matplotlib.pyplot as plt\n",
    "%matplotlib inline\n",
    "\n",
    "sns.set_style('darkgrid')\n",
    "matplotlib.rcParams['font.size'] = 14\n",
    "matplotlib.rcParams['figure.figsize'] = (9, 5)\n",
    "matplotlib.rcParams['figure.facecolor'] = '#00000000'"
   ]
  },
  {
   "cell_type": "code",
   "execution_count": 37,
   "metadata": {},
   "outputs": [
    {
     "data": {
      "text/html": [
       "<div>\n",
       "<style scoped>\n",
       "    .dataframe tbody tr th:only-of-type {\n",
       "        vertical-align: middle;\n",
       "    }\n",
       "\n",
       "    .dataframe tbody tr th {\n",
       "        vertical-align: top;\n",
       "    }\n",
       "\n",
       "    .dataframe thead th {\n",
       "        text-align: right;\n",
       "    }\n",
       "</style>\n",
       "<table border=\"1\" class=\"dataframe\">\n",
       "  <thead>\n",
       "    <tr style=\"text-align: right;\">\n",
       "      <th></th>\n",
       "      <th>Ratings</th>\n",
       "      <th>Votes</th>\n",
       "      <th>Cost</th>\n",
       "    </tr>\n",
       "  </thead>\n",
       "  <tbody>\n",
       "    <tr>\n",
       "      <th>count</th>\n",
       "      <td>23259.000000</td>\n",
       "      <td>23259.000000</td>\n",
       "      <td>23259.000000</td>\n",
       "    </tr>\n",
       "    <tr>\n",
       "      <th>mean</th>\n",
       "      <td>3.905834</td>\n",
       "      <td>605.388710</td>\n",
       "      <td>753.585279</td>\n",
       "    </tr>\n",
       "    <tr>\n",
       "      <th>std</th>\n",
       "      <td>0.426071</td>\n",
       "      <td>1113.483548</td>\n",
       "      <td>520.495760</td>\n",
       "    </tr>\n",
       "    <tr>\n",
       "      <th>min</th>\n",
       "      <td>1.800000</td>\n",
       "      <td>0.000000</td>\n",
       "      <td>40.000000</td>\n",
       "    </tr>\n",
       "    <tr>\n",
       "      <th>25%</th>\n",
       "      <td>3.800000</td>\n",
       "      <td>104.000000</td>\n",
       "      <td>400.000000</td>\n",
       "    </tr>\n",
       "    <tr>\n",
       "      <th>50%</th>\n",
       "      <td>4.000000</td>\n",
       "      <td>225.000000</td>\n",
       "      <td>600.000000</td>\n",
       "    </tr>\n",
       "    <tr>\n",
       "      <th>75%</th>\n",
       "      <td>4.200000</td>\n",
       "      <td>597.000000</td>\n",
       "      <td>1000.000000</td>\n",
       "    </tr>\n",
       "    <tr>\n",
       "      <th>max</th>\n",
       "      <td>4.900000</td>\n",
       "      <td>16832.000000</td>\n",
       "      <td>6000.000000</td>\n",
       "    </tr>\n",
       "  </tbody>\n",
       "</table>\n",
       "</div>"
      ],
      "text/plain": [
       "            Ratings         Votes          Cost\n",
       "count  23259.000000  23259.000000  23259.000000\n",
       "mean       3.905834    605.388710    753.585279\n",
       "std        0.426071   1113.483548    520.495760\n",
       "min        1.800000      0.000000     40.000000\n",
       "25%        3.800000    104.000000    400.000000\n",
       "50%        4.000000    225.000000    600.000000\n",
       "75%        4.200000    597.000000   1000.000000\n",
       "max        4.900000  16832.000000   6000.000000"
      ]
     },
     "execution_count": 37,
     "metadata": {},
     "output_type": "execute_result"
    }
   ],
   "source": [
    "df.describe()"
   ]
  },
  {
   "cell_type": "markdown",
   "metadata": {},
   "source": [
    "By using this describe method, mean,min,max,count value of numerical column are found out. As we analysis this Rating for the restaurants in bangalore receives close to 4."
   ]
  },
  {
   "cell_type": "markdown",
   "metadata": {},
   "source": [
    "### Restaurants Rating using Pie Chart"
   ]
  },
  {
   "cell_type": "code",
   "execution_count": 38,
   "metadata": {
    "scrolled": true
   },
   "outputs": [
    {
     "data": {
      "image/png": "[encoded data removed]",
      "text/plain": [
       "<Figure size 1080x720 with 1 Axes>"
      ]
     },
     "metadata": {
      "needs_background": "light"
     },
     "output_type": "display_data"
    }
   ],
   "source": [
    "data = zomato_df['Ratings'].dropna()\n",
    "\n",
    "plt.figure(figsize=(15, 10))\n",
    "\n",
    "# Matplotlib histogram\n",
    "plt.hist(data, color='blue', edgecolor='black', bins=30)\n",
    "\n",
    "# Seaborn histogram\n",
    "sns.histplot(data, kde=False, color='blue', bins=30, edgecolor='black')\n",
    "\n",
    "# Add labels\n",
    "plt.title('Histogram of Restaurant Ratings')\n",
    "plt.xlabel('Ratings')\n",
    "plt.ylabel('Count')\n",
    "\n",
    "plt.show()"
   ]
  },
  {
   "cell_type": "markdown",
   "metadata": {},
   "source": [
    "The histogram  plot generated from the dataset show that there is a peak in the frequency of ratings within the 3.5 to 4.5 range. This indicates that a significant number of restaurants in Bangalore have received ratings within this range. "
   ]
  },
  {
   "cell_type": "markdown",
   "metadata": {},
   "source": [
    "### Most popular cuisines in Bangalore"
   ]
  },
  {
   "cell_type": "code",
   "execution_count": 39,
   "metadata": {},
   "outputs": [
    {
     "data": {
      "image/png": "[encoded data removed]",
      "text/plain": [
       "<Figure size 648x648 with 1 Axes>"
      ]
     },
     "metadata": {
      "needs_background": "light"
     },
     "output_type": "display_data"
    }
   ],
   "source": [
    "plt.figure(figsize=(9, 9))\n",
    "Cuisines = df['Cuisines'].value_counts()[:10]\n",
    "sns.barplot(x=Cuisines, y=Cuisines.index)\n",
    "plt.xlabel('Count')\n",
    "plt.title(\"Most popular cuisines of Bangalore\")\n",
    "plt.show()"
   ]
  },
  {
   "cell_type": "markdown",
   "metadata": {},
   "source": [
    "### Number of restaurents  at Bangalore in particular location"
   ]
  },
  {
   "cell_type": "code",
   "execution_count": 40,
   "metadata": {},
   "outputs": [
    {
     "data": {
      "text/plain": [
       "(array([ 0,  1,  2,  3,  4,  5,  6,  7,  8,  9, 10, 11, 12, 13, 14, 15, 16,\n",
       "        17, 18, 19, 20, 21, 22, 23, 24, 25, 26, 27, 28, 29, 30, 31, 32, 33,\n",
       "        34, 35, 36, 37, 38, 39, 40, 41, 42, 43, 44, 45, 46, 47, 48, 49, 50,\n",
       "        51, 52, 53, 54, 55, 56, 57, 58, 59, 60, 61, 62, 63, 64, 65, 66, 67,\n",
       "        68, 69, 70, 71, 72, 73, 74, 75, 76, 77, 78, 79, 80, 81, 82, 83, 84,\n",
       "        85, 86, 87]),\n",
       " [Text(0, 0, 'Banashankari'),\n",
       "  Text(1, 0, 'Basavanagudi'),\n",
       "  Text(2, 0, 'Jayanagar'),\n",
       "  Text(3, 0, 'Kumaraswamy Layout'),\n",
       "  Text(4, 0, 'Rajarajeshwari Nagar'),\n",
       "  Text(5, 0, 'Mysore Road'),\n",
       "  Text(6, 0, 'Uttarahalli'),\n",
       "  Text(7, 0, 'South Bangalore'),\n",
       "  Text(8, 0, 'Vijay Nagar'),\n",
       "  Text(9, 0, 'Bannerghatta Road'),\n",
       "  Text(10, 0, 'JP Nagar'),\n",
       "  Text(11, 0, 'BTM'),\n",
       "  Text(12, 0, 'Wilson Garden'),\n",
       "  Text(13, 0, 'Koramangala 5th Block'),\n",
       "  Text(14, 0, 'Shanti Nagar'),\n",
       "  Text(15, 0, 'Richmond Road'),\n",
       "  Text(16, 0, 'City Market'),\n",
       "  Text(17, 0, 'Bellandur'),\n",
       "  Text(18, 0, 'Sarjapur Road'),\n",
       "  Text(19, 0, 'Marathahalli'),\n",
       "  Text(20, 0, 'HSR'),\n",
       "  Text(21, 0, 'Old Airport Road'),\n",
       "  Text(22, 0, 'Indiranagar'),\n",
       "  Text(23, 0, 'Koramangala 1st Block'),\n",
       "  Text(24, 0, 'East Bangalore'),\n",
       "  Text(25, 0, 'MG Road'),\n",
       "  Text(26, 0, 'Brigade Road'),\n",
       "  Text(27, 0, 'Lavelle Road'),\n",
       "  Text(28, 0, 'Church Street'),\n",
       "  Text(29, 0, 'Ulsoor'),\n",
       "  Text(30, 0, 'Residency Road'),\n",
       "  Text(31, 0, 'Shivajinagar'),\n",
       "  Text(32, 0, 'Infantry Road'),\n",
       "  Text(33, 0, 'St. Marks Road'),\n",
       "  Text(34, 0, 'Cunningham Road'),\n",
       "  Text(35, 0, 'Race Course Road'),\n",
       "  Text(36, 0, 'Domlur'),\n",
       "  Text(37, 0, 'Koramangala 8th Block'),\n",
       "  Text(38, 0, 'Frazer Town'),\n",
       "  Text(39, 0, 'Ejipura'),\n",
       "  Text(40, 0, 'Vasanth Nagar'),\n",
       "  Text(41, 0, 'Jeevan Bhima Nagar'),\n",
       "  Text(42, 0, 'Old Madras Road'),\n",
       "  Text(43, 0, 'Commercial Street'),\n",
       "  Text(44, 0, 'Koramangala 6th Block'),\n",
       "  Text(45, 0, 'Majestic'),\n",
       "  Text(46, 0, 'Langford Town'),\n",
       "  Text(47, 0, 'Koramangala 7th Block'),\n",
       "  Text(48, 0, 'Brookefield'),\n",
       "  Text(49, 0, 'Whitefield'),\n",
       "  Text(50, 0, 'ITPL Main Road, Whitefield'),\n",
       "  Text(51, 0, 'Varthur Main Road, Whitefield'),\n",
       "  Text(52, 0, 'Koramangala 2nd Block'),\n",
       "  Text(53, 0, 'Koramangala 3rd Block'),\n",
       "  Text(54, 0, 'Koramangala 4th Block'),\n",
       "  Text(55, 0, 'Koramangala'),\n",
       "  Text(56, 0, 'Bommanahalli'),\n",
       "  Text(57, 0, 'Hosur Road'),\n",
       "  Text(58, 0, 'Seshadripuram'),\n",
       "  Text(59, 0, 'Electronic City'),\n",
       "  Text(60, 0, 'Banaswadi'),\n",
       "  Text(61, 0, 'North Bangalore'),\n",
       "  Text(62, 0, 'RT Nagar'),\n",
       "  Text(63, 0, 'Kammanahalli'),\n",
       "  Text(64, 0, 'Hennur'),\n",
       "  Text(65, 0, 'HBR Layout'),\n",
       "  Text(66, 0, 'Kalyan Nagar'),\n",
       "  Text(67, 0, 'Thippasandra'),\n",
       "  Text(68, 0, 'CV Raman Nagar'),\n",
       "  Text(69, 0, 'Kaggadasapura'),\n",
       "  Text(70, 0, 'Kanakapura Road'),\n",
       "  Text(71, 0, 'Nagawara'),\n",
       "  Text(72, 0, 'Rammurthy Nagar'),\n",
       "  Text(73, 0, 'Sankey Road'),\n",
       "  Text(74, 0, 'Central Bangalore'),\n",
       "  Text(75, 0, 'Malleshwaram'),\n",
       "  Text(76, 0, 'Sadashiv Nagar'),\n",
       "  Text(77, 0, 'Basaveshwara Nagar'),\n",
       "  Text(78, 0, 'Rajajinagar'),\n",
       "  Text(79, 0, 'New BEL Road'),\n",
       "  Text(80, 0, 'West Bangalore'),\n",
       "  Text(81, 0, 'Yeshwantpur'),\n",
       "  Text(82, 0, 'Sanjay Nagar'),\n",
       "  Text(83, 0, 'Sahakara Nagar'),\n",
       "  Text(84, 0, 'Jalahalli'),\n",
       "  Text(85, 0, 'Yelahanka'),\n",
       "  Text(86, 0, 'Magadi Road'),\n",
       "  Text(87, 0, 'KR Puram')])"
      ]
     },
     "execution_count": 40,
     "metadata": {},
     "output_type": "execute_result"
    },
    {
     "data": {
      "image/png": "[encoded data removed]",
      "text/plain": [
       "<Figure size 1152x720 with 1 Axes>"
      ]
     },
     "metadata": {
      "needs_background": "light"
     },
     "output_type": "display_data"
    }
   ],
   "source": [
    "plt.figure(figsize = (16,10))\n",
    "ax = sns.countplot(data=df, x=df['location'])\n",
    "plt.xticks(rotation=90) #for clear x axis\n"
   ]
  },
  {
   "cell_type": "markdown",
   "metadata": {},
   "source": [
    "### Fraction of Delivery and Book Table"
   ]
  },
  {
   "cell_type": "code",
   "execution_count": 41,
   "metadata": {},
   "outputs": [
    {
     "data": {
      "image/png": "[encoded data removed]",
      "text/plain": [
       "<Figure size 1200x400 with 1 Axes>"
      ]
     },
     "metadata": {},
     "output_type": "display_data"
    }
   ],
   "source": [
    "with plt.style.context('bmh', after_reset = True):\n",
    "    plt.figure(figsize = (12,4))\n",
    "    ax = plt.subplot(1,1,1)\n",
    "    tmp = {}\n",
    "    for col in ['Takes_online_orders', 'Has_table_booking']: \n",
    "        tmp[col] = zomato_df[col].value_counts()\n",
    "    tmp = pd.DataFrame.from_dict(tmp, orient = 'index')\n",
    "    tmp.plot.barh(stacked = True, ax = ax)\n",
    "    ax.set_title('Fraction of Delivery and Book Table')\n",
    "    plt.show()"
   ]
  },
  {
   "cell_type": "markdown",
   "metadata": {},
   "source": [
    "Bangalore restaurant takes more online order  and  has less booking facilities for dining."
   ]
  },
  {
   "cell_type": "markdown",
   "metadata": {},
   "source": [
    "Let us save and upload our work to Jovian before continuing"
   ]
  },
  {
   "cell_type": "code",
   "execution_count": 42,
   "metadata": {},
   "outputs": [],
   "source": [
    "import jovian"
   ]
  },
  {
   "cell_type": "code",
   "execution_count": 43,
   "metadata": {},
   "outputs": [],
   "source": [
    "project_name = \"zerotopandas-course-project-zomato-bangalore\""
   ]
  },
  {
   "cell_type": "code",
   "execution_count": 44,
   "metadata": {},
   "outputs": [
    {
     "data": {
      "application/javascript": [
       "window.require && require([\"base/js/namespace\"],function(Jupyter){Jupyter.notebook.save_checkpoint()})"
      ],
      "text/plain": [
       "<IPython.core.display.Javascript object>"
      ]
     },
     "metadata": {},
     "output_type": "display_data"
    },
    {
     "name": "stdout",
     "output_type": "stream",
     "text": [
      "[jovian] Updating notebook \"murale1/zerotopandas-course-project-zomato-bangalore\" on https://jovian.com\u001b[0m\n",
      "[jovian] Committed successfully! https://jovian.com/murale1/zerotopandas-course-project-zomato-bangalore\u001b[0m\n"
     ]
    },
    {
     "data": {
      "text/plain": [
       "'https://jovian.com/murale1/zerotopandas-course-project-zomato-bangalore'"
      ]
     },
     "execution_count": 44,
     "metadata": {},
     "output_type": "execute_result"
    }
   ],
   "source": [
    "jovian.commit(project=project_name)"
   ]
  },
  {
   "cell_type": "markdown",
   "metadata": {},
   "source": [
    "## Asking and Answering Questions\n",
    "\n"
   ]
  },
  {
   "cell_type": "markdown",
   "metadata": {},
   "source": [
    "#### Q1:  Which Location has More Positive  rated Restaurants in Bangalore?"
   ]
  },
  {
   "cell_type": "code",
   "execution_count": 45,
   "metadata": {},
   "outputs": [
    {
     "data": {
      "text/html": [
       "<div>\n",
       "<style scoped>\n",
       "    .dataframe tbody tr th:only-of-type {\n",
       "        vertical-align: middle;\n",
       "    }\n",
       "\n",
       "    .dataframe tbody tr th {\n",
       "        vertical-align: top;\n",
       "    }\n",
       "\n",
       "    .dataframe thead th {\n",
       "        text-align: right;\n",
       "    }\n",
       "</style>\n",
       "<table border=\"1\" class=\"dataframe\">\n",
       "  <thead>\n",
       "    <tr style=\"text-align: right;\">\n",
       "      <th></th>\n",
       "      <th>Name</th>\n",
       "      <th>Takes_online_orders</th>\n",
       "      <th>Has_table_booking</th>\n",
       "      <th>Ratings</th>\n",
       "      <th>Votes</th>\n",
       "      <th>location</th>\n",
       "      <th>Rest_Type</th>\n",
       "      <th>dish_liked</th>\n",
       "      <th>Cuisines</th>\n",
       "      <th>Cost</th>\n",
       "      <th>menu_item</th>\n",
       "      <th>Type</th>\n",
       "      <th>City</th>\n",
       "    </tr>\n",
       "  </thead>\n",
       "  <tbody>\n",
       "    <tr>\n",
       "      <th>11544</th>\n",
       "      <td>Olive Bar And Kitchen</td>\n",
       "      <td>No</td>\n",
       "      <td>Yes</td>\n",
       "      <td>4.5</td>\n",
       "      <td>2198</td>\n",
       "      <td>Richmond Road</td>\n",
       "      <td>Casual Dining</td>\n",
       "      <td>Salads, Cocktails, Hazelnut Cake, Pepperoni Pi...</td>\n",
       "      <td>Mediterranean, European, Salad</td>\n",
       "      <td>1800.0</td>\n",
       "      <td>[]</td>\n",
       "      <td>Buffet</td>\n",
       "      <td>Church Street</td>\n",
       "    </tr>\n",
       "    <tr>\n",
       "      <th>6612</th>\n",
       "      <td>The Biere Club</td>\n",
       "      <td>Yes</td>\n",
       "      <td>Yes</td>\n",
       "      <td>4.3</td>\n",
       "      <td>3484</td>\n",
       "      <td>Lavelle Road</td>\n",
       "      <td>others</td>\n",
       "      <td>Wheat Beer, Pizza, Cocktails, Virgin Sangria, ...</td>\n",
       "      <td>Continental, BBQ, Finger Food</td>\n",
       "      <td>1700.0</td>\n",
       "      <td>[]</td>\n",
       "      <td>Drinks &amp; nightlife</td>\n",
       "      <td>Brigade Road</td>\n",
       "    </tr>\n",
       "    <tr>\n",
       "      <th>11673</th>\n",
       "      <td>Infinitea Tea Room  Tea Store</td>\n",
       "      <td>Yes</td>\n",
       "      <td>Yes</td>\n",
       "      <td>4.3</td>\n",
       "      <td>860</td>\n",
       "      <td>Cunningham Road</td>\n",
       "      <td>others</td>\n",
       "      <td>Tea, Momos, Tiramisu, Sandwiches, Pesto Pasta,...</td>\n",
       "      <td>Continental, Cafe, Desserts, Salad, Momos</td>\n",
       "      <td>1000.0</td>\n",
       "      <td>[]</td>\n",
       "      <td>Cafes</td>\n",
       "      <td>Church Street</td>\n",
       "    </tr>\n",
       "    <tr>\n",
       "      <th>46380</th>\n",
       "      <td>Clean Slate Cafe</td>\n",
       "      <td>Yes</td>\n",
       "      <td>No</td>\n",
       "      <td>4.1</td>\n",
       "      <td>274</td>\n",
       "      <td>Malleshwaram</td>\n",
       "      <td>Cafe</td>\n",
       "      <td>Fries, Burgers, Peri Peri Potato Wedge, Pasta ...</td>\n",
       "      <td>Cafe, Continental, Italian</td>\n",
       "      <td>600.0</td>\n",
       "      <td>[]</td>\n",
       "      <td>Delivery</td>\n",
       "      <td>Rajajinagar</td>\n",
       "    </tr>\n",
       "    <tr>\n",
       "      <th>15611</th>\n",
       "      <td>The Grill House</td>\n",
       "      <td>Yes</td>\n",
       "      <td>Yes</td>\n",
       "      <td>4.1</td>\n",
       "      <td>765</td>\n",
       "      <td>Ulsoor</td>\n",
       "      <td>others</td>\n",
       "      <td>Steak, Burgers, Cocktails, Beer, Buffalo Wings...</td>\n",
       "      <td>American, Mexican, Italian, Steak</td>\n",
       "      <td>1200.0</td>\n",
       "      <td>[]</td>\n",
       "      <td>Dine-out</td>\n",
       "      <td>Frazer Town</td>\n",
       "    </tr>\n",
       "  </tbody>\n",
       "</table>\n",
       "</div>"
      ],
      "text/plain": [
       "                                Name Takes_online_orders Has_table_booking  \\\n",
       "11544          Olive Bar And Kitchen                  No               Yes   \n",
       "6612                  The Biere Club                 Yes               Yes   \n",
       "11673  Infinitea Tea Room  Tea Store                 Yes               Yes   \n",
       "46380               Clean Slate Cafe                 Yes                No   \n",
       "15611                The Grill House                 Yes               Yes   \n",
       "\n",
       "       Ratings  Votes         location      Rest_Type  \\\n",
       "11544      4.5   2198    Richmond Road  Casual Dining   \n",
       "6612       4.3   3484     Lavelle Road         others   \n",
       "11673      4.3    860  Cunningham Road         others   \n",
       "46380      4.1    274     Malleshwaram           Cafe   \n",
       "15611      4.1    765           Ulsoor         others   \n",
       "\n",
       "                                              dish_liked  \\\n",
       "11544  Salads, Cocktails, Hazelnut Cake, Pepperoni Pi...   \n",
       "6612   Wheat Beer, Pizza, Cocktails, Virgin Sangria, ...   \n",
       "11673  Tea, Momos, Tiramisu, Sandwiches, Pesto Pasta,...   \n",
       "46380  Fries, Burgers, Peri Peri Potato Wedge, Pasta ...   \n",
       "15611  Steak, Burgers, Cocktails, Beer, Buffalo Wings...   \n",
       "\n",
       "                                        Cuisines    Cost menu_item  \\\n",
       "11544             Mediterranean, European, Salad  1800.0        []   \n",
       "6612               Continental, BBQ, Finger Food  1700.0        []   \n",
       "11673  Continental, Cafe, Desserts, Salad, Momos  1000.0        []   \n",
       "46380                 Cafe, Continental, Italian   600.0        []   \n",
       "15611          American, Mexican, Italian, Steak  1200.0        []   \n",
       "\n",
       "                     Type           City  \n",
       "11544              Buffet  Church Street  \n",
       "6612   Drinks & nightlife   Brigade Road  \n",
       "11673               Cafes  Church Street  \n",
       "46380            Delivery    Rajajinagar  \n",
       "15611            Dine-out    Frazer Town  "
      ]
     },
     "execution_count": 45,
     "metadata": {},
     "output_type": "execute_result"
    }
   ],
   "source": [
    "b=df[df.Ratings>4]\n",
    "b.sample(5)"
   ]
  },
  {
   "cell_type": "code",
   "execution_count": 46,
   "metadata": {},
   "outputs": [],
   "source": [
    "high_rated_df=b.City.value_counts().sort_values(ascending=False)"
   ]
  },
  {
   "cell_type": "code",
   "execution_count": 47,
   "metadata": {},
   "outputs": [
    {
     "data": {
      "image/png": "[encoded data removed]",
      "text/plain": [
       "<Figure size 2160x720 with 1 Axes>"
      ]
     },
     "metadata": {
      "needs_background": "light"
     },
     "output_type": "display_data"
    }
   ],
   "source": [
    "plt.figure(figsize=(30,10))\n",
    "plt.barh(high_rated_df.index,high_rated_df.values)\n",
    "plt.xlabel('No of Ratings',size=15)\n",
    "plt.ylabel('City',size=15)\n",
    "plt.xticks(fontsize=15)\n",
    "plt.yticks(fontsize=15)\n",
    "plt.title('Highest Rating',size=20)\n",
    "plt.show()"
   ]
  },
  {
   "cell_type": "markdown",
   "metadata": {},
   "source": [
    "Upon analyzing the dataset, it was observed that Koramangala 7th Block has the largest number of highly rated restaurants compared to other areas in Bangalore. This indicates that Koramangala 7th Block is a popular destination for food enthusiasts and offers a wide range of establishments that have received positive ratings from customers."
   ]
  },
  {
   "cell_type": "markdown",
   "metadata": {},
   "source": [
    "#### Q2: What is Top restaurant Chain in Bangalore?"
   ]
  },
  {
   "cell_type": "code",
   "execution_count": 48,
   "metadata": {},
   "outputs": [
    {
     "data": {
      "text/plain": [
       "0                                                    Jalsa\n",
       "1                                           Spice Elephant\n",
       "2                                          San Churro Cafe\n",
       "3                                    Addhuri Udupi Bhojana\n",
       "4                                            Grand Village\n",
       "                               ...                        \n",
       "51705                                   Izakaya Gastro Pub\n",
       "51707           M Bar  Bengaluru Marriott Hotel Whitefield\n",
       "51708                                Keys Cafe  Keys Hotel\n",
       "51711                                              Bhagini\n",
       "51715    Chime  Sheraton Grand Bengaluru Whitefield Hotel \n",
       "Name: Name, Length: 23259, dtype: object"
      ]
     },
     "execution_count": 48,
     "metadata": {},
     "output_type": "execute_result"
    }
   ],
   "source": [
    "df['Name']"
   ]
  },
  {
   "cell_type": "code",
   "execution_count": 49,
   "metadata": {},
   "outputs": [
    {
     "data": {
      "text/plain": [
       "Text(0.5, 0, 'Number of outlets')"
      ]
     },
     "execution_count": 49,
     "metadata": {},
     "output_type": "execute_result"
    },
    {
     "data": {
      "image/png": "[encoded data removed]",
      "text/plain": [
       "<Figure size 1224x720 with 1 Axes>"
      ]
     },
     "metadata": {
      "needs_background": "light"
     },
     "output_type": "display_data"
    }
   ],
   "source": [
    "plt.figure(figsize=(17,10))\n",
    "chains=df['Name'].value_counts()[:20]\n",
    "sns.barplot(x=chains,y=chains.index,palette='deep')\n",
    "plt.title(\"Most famous restaurants chains in Bangaluru\")\n",
    "plt.xlabel(\"Number of outlets\")"
   ]
  },
  {
   "cell_type": "markdown",
   "metadata": {},
   "source": [
    "based on the analysis of the dataset, Onesta, Empire Restaurant, and KFC are among the most famous restaurant chains in Bangalore. These chains have earned their reputation through a combination of factors, including a strong presence across the city, positive customer ratings, and a wide customer base."
   ]
  },
  {
   "cell_type": "markdown",
   "metadata": {},
   "source": [
    "#### Q3: Which Type of Food liked by most people in Bangalore?"
   ]
  },
  {
   "cell_type": "code",
   "execution_count": 50,
   "metadata": {},
   "outputs": [],
   "source": [
    "import re\n",
    "df=df[df['dish_liked'].notnull()]\n",
    "df.index=range(df.shape[0])\n",
    "likes=[]\n",
    "for i in range(df.shape[0]):\n",
    "    splited_array=re.split(',',df['dish_liked'][i])\n",
    "    for item in splited_array:\n",
    "        likes.append(item)"
   ]
  },
  {
   "cell_type": "code",
   "execution_count": 51,
   "metadata": {},
   "outputs": [
    {
     "name": "stdout",
     "output_type": "stream",
     "text": [
      "Count of Most liked dishes of Bangalore\n"
     ]
    },
    {
     "data": {
      "text/plain": [
       " Pasta              2695\n",
       " Pizza              1916\n",
       " Cocktails          1882\n",
       " Burgers            1738\n",
       " Mocktails          1623\n",
       " Biryani            1309\n",
       " Sandwiches         1287\n",
       "Burgers             1256\n",
       " Coffee             1184\n",
       " Nachos             1171\n",
       " Fish               1118\n",
       " Paratha            1108\n",
       " Salads             1057\n",
       " Chicken Biryani    1004\n",
       "Cocktails            891\n",
       " Fries               877\n",
       " Noodles             854\n",
       " Beer                835\n",
       " Mutton Biryani      832\n",
       " Tea                 819\n",
       "dtype: int64"
      ]
     },
     "execution_count": 51,
     "metadata": {},
     "output_type": "execute_result"
    }
   ],
   "source": [
    "print(\"Count of Most liked dishes of Bangalore\")\n",
    "favourite_food = pd.Series(likes).value_counts()\n",
    "favourite_food.head(20)"
   ]
  },
  {
   "cell_type": "code",
   "execution_count": 52,
   "metadata": {},
   "outputs": [
    {
     "data": {
      "image/png": "[encoded data removed]",
      "text/plain": [
       "<Figure size 1080x1080 with 1 Axes>"
      ]
     },
     "metadata": {
      "needs_background": "light"
     },
     "output_type": "display_data"
    }
   ],
   "source": [
    "ax = favourite_food.nlargest(n=20, keep='first').plot(kind='bar',figsize=(15,15),title = 'Top 20 Favourite Food counts ')\n",
    "\n",
    "for p in ax.patches:\n",
    "    ax.annotate(str(p.get_height()), (p.get_x() * 1.005, p.get_height() * 1.005))"
   ]
  },
  {
   "cell_type": "markdown",
   "metadata": {},
   "source": [
    "Based on these observations, it can be inferred that pasta, pizza, and cocktails are among the most favorite food choices in Bangalore. Diners in the city often seek out restaurants that offer quality pasta and pizza dishes, as well as a selection of well-crafted cocktails."
   ]
  },
  {
   "cell_type": "markdown",
   "metadata": {},
   "source": [
    "#### Q4: Which location has highest number of restraurants in Bangalore?"
   ]
  },
  {
   "cell_type": "code",
   "execution_count": 53,
   "metadata": {},
   "outputs": [
    {
     "data": {
      "text/plain": [
       "<AxesSubplot:xlabel='location'>"
      ]
     },
     "execution_count": 53,
     "metadata": {},
     "output_type": "execute_result"
    },
    {
     "data": {
      "image/png": "[encoded data removed]",
      "text/plain": [
       "<Figure size 648x648 with 1 Axes>"
      ]
     },
     "metadata": {
      "needs_background": "light"
     },
     "output_type": "display_data"
    }
   ],
   "source": [
    "plt.figure(figsize=(9,9))\n",
    "Rest_locations = df['location'].value_counts()[:20]\n",
    "sns.barplot(x=Rest_locations, y=Rest_locations.index, palette=\"rocket\")"
   ]
  },
  {
   "cell_type": "markdown",
   "metadata": {},
   "source": [
    "The high number of restaurants in Koramangala 5th Block suggests that this particular block is a bustling culinary hub within Koramangala. It offers a wide range of dining options, catering to different cuisines and preferences. Residents and visitors in the area have a multitude of choices when it comes to exploring various culinary experiences."
   ]
  },
  {
   "cell_type": "markdown",
   "metadata": {},
   "source": [
    "#### Q5: Which location has most expensive and most affortable cost in Bangalore?"
   ]
  },
  {
   "cell_type": "code",
   "execution_count": 54,
   "metadata": {},
   "outputs": [
    {
     "data": {
      "text/html": [
       "<style type=\"text/css\">\n",
       "#T_2c96e_row0_col0 {\n",
       "  background-color: #f43d25;\n",
       "  color: #f1f1f1;\n",
       "}\n",
       "#T_2c96e_row1_col0 {\n",
       "  background-color: #ffeea3;\n",
       "  color: #000000;\n",
       "}\n",
       "#T_2c96e_row2_col0 {\n",
       "  background-color: #fff1a9;\n",
       "  color: #000000;\n",
       "}\n",
       "#T_2c96e_row3_col0 {\n",
       "  background-color: #fff9be;\n",
       "  color: #000000;\n",
       "}\n",
       "#T_2c96e_row4_col0 {\n",
       "  background-color: #ffffcc;\n",
       "  color: #000000;\n",
       "}\n",
       "</style>\n",
       "<table id=\"T_2c96e_\">\n",
       "  <thead>\n",
       "    <tr>\n",
       "      <th class=\"blank level0\" >&nbsp;</th>\n",
       "      <th class=\"col_heading level0 col0\" >Cost</th>\n",
       "    </tr>\n",
       "    <tr>\n",
       "      <th class=\"index_name level0\" >location</th>\n",
       "      <th class=\"blank col0\" >&nbsp;</th>\n",
       "    </tr>\n",
       "  </thead>\n",
       "  <tbody>\n",
       "    <tr>\n",
       "      <th id=\"T_2c96e_level0_row0\" class=\"row_heading level0 row0\" >Sankey Road</th>\n",
       "      <td id=\"T_2c96e_row0_col0\" class=\"data row0 col0\" >2802.941176</td>\n",
       "    </tr>\n",
       "    <tr>\n",
       "      <th id=\"T_2c96e_level0_row1\" class=\"row_heading level0 row1\" >MG Road</th>\n",
       "      <td id=\"T_2c96e_row1_col0\" class=\"data row1 col0\" >1472.063758</td>\n",
       "    </tr>\n",
       "    <tr>\n",
       "      <th id=\"T_2c96e_level0_row2\" class=\"row_heading level0 row2\" >Lavelle Road</th>\n",
       "      <td id=\"T_2c96e_row2_col0\" class=\"data row2 col0\" >1425.672646</td>\n",
       "    </tr>\n",
       "    <tr>\n",
       "      <th id=\"T_2c96e_level0_row3\" class=\"row_heading level0 row3\" >Race Course Road</th>\n",
       "      <td id=\"T_2c96e_row3_col0\" class=\"data row3 col0\" >1284.000000</td>\n",
       "    </tr>\n",
       "    <tr>\n",
       "      <th id=\"T_2c96e_level0_row4\" class=\"row_heading level0 row4\" >Infantry Road</th>\n",
       "      <td id=\"T_2c96e_row4_col0\" class=\"data row4 col0\" >1187.368421</td>\n",
       "    </tr>\n",
       "  </tbody>\n",
       "</table>\n"
      ],
      "text/plain": [
       "<pandas.io.formats.style.Styler at 0x7fac46877820>"
      ]
     },
     "execution_count": 54,
     "metadata": {},
     "output_type": "execute_result"
    }
   ],
   "source": [
    "df2=df.groupby(\"location\")[[\"Cost\"]].mean()\n",
    "df3=df2.sort_values(by=\"Cost\",ascending=False).head()\n",
    "df3.style.background_gradient(cmap=\"YlOrRd\",high=0.5)"
   ]
  },
  {
   "cell_type": "code",
   "execution_count": 55,
   "metadata": {},
   "outputs": [
    {
     "data": {
      "text/plain": [
       "<AxesSubplot:xlabel='location'>"
      ]
     },
     "execution_count": 55,
     "metadata": {},
     "output_type": "execute_result"
    },
    {
     "data": {
      "image/png": "[encoded data removed]",
      "text/plain": [
       "<Figure size 2592x576 with 1 Axes>"
      ]
     },
     "metadata": {
      "needs_background": "light"
     },
     "output_type": "display_data"
    }
   ],
   "source": [
    "df3.plot(kind = 'bar', figsize = (36,8))"
   ]
  },
  {
   "cell_type": "markdown",
   "metadata": {},
   "source": [
    "If you are looking for a location in Bangalore that offers upscale and expensive dining experiences, Sankey Road emerges as the most prominent choice based on the dataset analysis"
   ]
  },
  {
   "cell_type": "code",
   "execution_count": 56,
   "metadata": {},
   "outputs": [
    {
     "data": {
      "text/html": [
       "<style type=\"text/css\">\n",
       "#T_c3240_row0_col0 {\n",
       "  background-color: #ffffcc;\n",
       "  color: #000000;\n",
       "}\n",
       "#T_c3240_row1_col0 {\n",
       "  background-color: #fedc7c;\n",
       "  color: #000000;\n",
       "}\n",
       "#T_c3240_row2_col0 {\n",
       "  background-color: #fea245;\n",
       "  color: #000000;\n",
       "}\n",
       "#T_c3240_row3_col0 {\n",
       "  background-color: #fc4d2a;\n",
       "  color: #f1f1f1;\n",
       "}\n",
       "#T_c3240_row4_col0 {\n",
       "  background-color: #f43d25;\n",
       "  color: #f1f1f1;\n",
       "}\n",
       "</style>\n",
       "<table id=\"T_c3240_\">\n",
       "  <thead>\n",
       "    <tr>\n",
       "      <th class=\"blank level0\" >&nbsp;</th>\n",
       "      <th class=\"col_heading level0 col0\" >Cost</th>\n",
       "    </tr>\n",
       "    <tr>\n",
       "      <th class=\"index_name level0\" >location</th>\n",
       "      <th class=\"blank col0\" >&nbsp;</th>\n",
       "    </tr>\n",
       "  </thead>\n",
       "  <tbody>\n",
       "    <tr>\n",
       "      <th id=\"T_c3240_level0_row0\" class=\"row_heading level0 row0\" >KR Puram</th>\n",
       "      <td id=\"T_c3240_row0_col0\" class=\"data row0 col0\" >300.000000</td>\n",
       "    </tr>\n",
       "    <tr>\n",
       "      <th id=\"T_c3240_level0_row1\" class=\"row_heading level0 row1\" >Hosur Road</th>\n",
       "      <td id=\"T_c3240_row1_col0\" class=\"data row1 col0\" >327.083333</td>\n",
       "    </tr>\n",
       "    <tr>\n",
       "      <th id=\"T_c3240_level0_row2\" class=\"row_heading level0 row2\" >Yelahanka</th>\n",
       "      <td id=\"T_c3240_row2_col0\" class=\"data row2 col0\" >350.000000</td>\n",
       "    </tr>\n",
       "    <tr>\n",
       "      <th id=\"T_c3240_level0_row3\" class=\"row_heading level0 row3\" >Sanjay Nagar</th>\n",
       "      <td id=\"T_c3240_row3_col0\" class=\"data row3 col0\" >373.529412</td>\n",
       "    </tr>\n",
       "    <tr>\n",
       "      <th id=\"T_c3240_level0_row4\" class=\"row_heading level0 row4\" >Ejipura</th>\n",
       "      <td id=\"T_c3240_row4_col0\" class=\"data row4 col0\" >377.966102</td>\n",
       "    </tr>\n",
       "  </tbody>\n",
       "</table>\n"
      ],
      "text/plain": [
       "<pandas.io.formats.style.Styler at 0x7fac466a5460>"
      ]
     },
     "execution_count": 56,
     "metadata": {},
     "output_type": "execute_result"
    }
   ],
   "source": [
    "df4=df.groupby(\"location\")[[\"Cost\"]].mean().sort_values(by=\"Cost\").head()\n",
    "df4.style.background_gradient(cmap=\"YlOrRd\",high=0.5)"
   ]
  },
  {
   "cell_type": "code",
   "execution_count": 57,
   "metadata": {},
   "outputs": [
    {
     "data": {
      "text/plain": [
       "<AxesSubplot:xlabel='location'>"
      ]
     },
     "execution_count": 57,
     "metadata": {},
     "output_type": "execute_result"
    },
    {
     "data": {
      "image/png": "[encoded data removed]",
      "text/plain": [
       "<Figure size 2592x576 with 1 Axes>"
      ]
     },
     "metadata": {
      "needs_background": "light"
     },
     "output_type": "display_data"
    }
   ],
   "source": [
    "df4.plot(kind = 'bar', figsize = (36,8))"
   ]
  },
  {
   "cell_type": "markdown",
   "metadata": {},
   "source": [
    "It was found that the average price range or cost of dining at restaurants in KR Puram is relatively lower compared to other locations in Bangalore.The affordability of restaurants in KR Puram suggests that this particular area offers budget-friendly dining options. It is likely to have a range of restaurants that cater to customers looking for more economical dining experiences."
   ]
  },
  {
   "cell_type": "markdown",
   "metadata": {},
   "source": [
    "Let us save and upload our work to Jovian before continuing."
   ]
  },
  {
   "cell_type": "code",
   "execution_count": 64,
   "metadata": {},
   "outputs": [],
   "source": [
    "import jovian"
   ]
  },
  {
   "cell_type": "code",
   "execution_count": 58,
   "metadata": {},
   "outputs": [],
   "source": [
    "project_name = \"zerotopandas-course-project-zomato-bangalore\""
   ]
  },
  {
   "cell_type": "code",
   "execution_count": 59,
   "metadata": {},
   "outputs": [
    {
     "data": {
      "application/javascript": [
       "window.require && require([\"base/js/namespace\"],function(Jupyter){Jupyter.notebook.save_checkpoint()})"
      ],
      "text/plain": [
       "<IPython.core.display.Javascript object>"
      ]
     },
     "metadata": {},
     "output_type": "display_data"
    },
    {
     "name": "stdout",
     "output_type": "stream",
     "text": [
      "[jovian] Updating notebook \"murale1/zerotopandas-course-project-zomato-bangalore\" on https://jovian.com\u001b[0m\n",
      "[jovian] Committed successfully! https://jovian.com/murale1/zerotopandas-course-project-zomato-bangalore\u001b[0m\n"
     ]
    },
    {
     "data": {
      "text/plain": [
       "'https://jovian.com/murale1/zerotopandas-course-project-zomato-bangalore'"
      ]
     },
     "execution_count": 59,
     "metadata": {},
     "output_type": "execute_result"
    }
   ],
   "source": [
    "jovian.commit(project=project_name)"
   ]
  },
  {
   "cell_type": "markdown",
   "metadata": {},
   "source": [
    "## Inferences and Conclusion\n",
    "\n",
    "Based on the provided information, the conclusions and inferences that can be drawn are as follows:\n",
    "\n",
    "1. **Popular Cuisines**: The most popular cuisines in Bangalore are North Indian, followed by Chinese and South Indian.\n",
    "\n",
    "2. **Restaurant Concentration**: Koramangala 5th Block has the highest number of restaurants, making it a vibrant culinary hub in the area, offering diverse dining options.\n",
    "\n",
    "3. **Ratings Frequency**: Restaurants in Bangalore tend to receive ratings mostly within the 3.5 to 4.5 range, indicating a generally positive dining experience.\n",
    "\n",
    "4. **Dining Trends**: Bangaloreans have a preference for pasta, pizza, and cocktails as their favorite food choices.\n",
    "\n",
    "5. **Online Ordering**: Bangalore restaurants are more focused on catering to online orders rather than offering extensive booking facilities for dining in.\n",
    "\n",
    "6. **Highly Rated Restaurants**: Koramangala 7th Block stands out as an area with the largest number of highly rated restaurants in Bangalore, indicating a concentration of quality dining establishments.\n",
    "\n",
    "7. **Famous Restaurant Chains**: Onesta, Empire Restaurant, and KFC are among the most well-known restaurant chains in Bangalore.\n",
    "\n",
    "8. **Upscale Dining**: Sankey Road is the prominent choice for those seeking upscale and expensive dining experiences in Bangalore.\n",
    "\n",
    "9. **Affordable Dining**: KR Puram offers a relatively lower average price range or cost of dining compared to other locations in Bangalore.\n",
    "\n",
    "In summary, Bangalore is a diverse culinary city with a strong presence of North Indian, Chinese, and South Indian cuisines. Koramangala 5th Block and 7th Block are significant areas for restaurant choices, with the latter standing out for highly rated establishments. Online ordering is more prevalent than booking for dining in, and pasta, pizza, and cocktails are popular food choices. Sankey Road offers upscale dining experiences, while KR Puram is known for its more affordable dining options."
   ]
  },
  {
   "cell_type": "code",
   "execution_count": 60,
   "metadata": {},
   "outputs": [],
   "source": [
    "import jovian"
   ]
  },
  {
   "cell_type": "code",
   "execution_count": 61,
   "metadata": {},
   "outputs": [],
   "source": [
    "project_name = \"zerotopandas-course-project-zomato-bangalore\""
   ]
  },
  {
   "cell_type": "code",
   "execution_count": 62,
   "metadata": {},
   "outputs": [
    {
     "data": {
      "application/javascript": [
       "window.require && require([\"base/js/namespace\"],function(Jupyter){Jupyter.notebook.save_checkpoint()})"
      ],
      "text/plain": [
       "<IPython.core.display.Javascript object>"
      ]
     },
     "metadata": {},
     "output_type": "display_data"
    },
    {
     "name": "stdout",
     "output_type": "stream",
     "text": [
      "[jovian] Updating notebook \"murale1/zerotopandas-course-project-zomato-bangalore\" on https://jovian.com\u001b[0m\n",
      "[jovian] Committed successfully! https://jovian.com/murale1/zerotopandas-course-project-zomato-bangalore\u001b[0m\n"
     ]
    },
    {
     "data": {
      "text/plain": [
       "'https://jovian.com/murale1/zerotopandas-course-project-zomato-bangalore'"
      ]
     },
     "execution_count": 62,
     "metadata": {},
     "output_type": "execute_result"
    }
   ],
   "source": [
    "jovian.commit(project=project_name)"
   ]
  },
  {
   "cell_type": "code",
   "execution_count": 63,
   "metadata": {},
   "outputs": [],
   "source": [
    "import jovian"
   ]
  },
  {
   "cell_type": "code",
   "execution_count": 64,
   "metadata": {},
   "outputs": [],
   "source": [
    "project_name = \"zerotopandas-course-project-zomato-bangalore\""
   ]
  },
  {
   "cell_type": "code",
   "execution_count": 66,
   "metadata": {
    "scrolled": true
   },
   "outputs": [
    {
     "data": {
      "application/javascript": [
       "window.require && require([\"base/js/namespace\"],function(Jupyter){Jupyter.notebook.save_checkpoint()})"
      ],
      "text/plain": [
       "<IPython.core.display.Javascript object>"
      ]
     },
     "metadata": {},
     "output_type": "display_data"
    },
    {
     "name": "stdout",
     "output_type": "stream",
     "text": [
      "[jovian] Updating notebook \"murale1/zerotopandas-course-project-zomato-bangalore\" on https://jovian.com\u001b[0m\n",
      "[jovian] Committed successfully! https://jovian.com/murale1/zerotopandas-course-project-zomato-bangalore\u001b[0m\n"
     ]
    },
    {
     "data": {
      "text/plain": [
       "'https://jovian.com/murale1/zerotopandas-course-project-zomato-bangalore'"
      ]
     },
     "execution_count": 66,
     "metadata": {},
     "output_type": "execute_result"
    }
   ],
   "source": [
    "jovian.commit(project=project_name)"
   ]
  },
  {
   "cell_type": "code",
   "execution_count": null,
   "metadata": {},
   "outputs": [],
   "source": []
  }
 ],
 "metadata": {
  "kernelspec": {
   "display_name": "Python 3 (ipykernel)",
   "language": "python",
   "name": "python3"
  },
  "language_info": {
   "codemirror_mode": {
    "name": "ipython",
    "version": 3
   },
   "file_extension": ".py",
   "mimetype": "text/x-python",
   "name": "python",
   "nbconvert_exporter": "python",
   "pygments_lexer": "ipython3",
   "version": "3.9.7"
  }
 },
 "nbformat": 4,
 "nbformat_minor": 4
}
